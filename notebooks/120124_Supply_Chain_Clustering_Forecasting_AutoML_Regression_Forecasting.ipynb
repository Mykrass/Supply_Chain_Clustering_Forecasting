{
  "cells": [
    {
      "cell_type": "markdown",
      "source": [
        "# Source\n",
        "\n",
        "<table class=\"tfo-notebook-buttons\" align=\"left\">\n",
        "  <td>\n",
        "    <a target=\"_blank\" href=\"https://medium.com/@lukas.niederhaeuser_1037/supply-chain-analytics-part-4-forecasting-modeling-3f81c598d62b\"><img src=\"https://cdn.icon-icons.com/icons2/2997/PNG/32/medium_logo_icon_187624.png\" />Watch in Medium</a>\n",
        "  </td>\n",
        "  <td>\n",
        "    <a target=\"_blank\" href=\"https://colab.research.google.com/drive/1EHXeF2JLUQdjHWvxUIVmpBH3IYBE48Ei#scrollTo=mcV2JPKsVhJd\"><img src=\"https://www.tensorflow.org/images/colab_logo_32px.png\" />Run in Colab</a>\n",
        "  </td>\n",
        "  <td>\n",
        "    <a target=\"_blank\" href=\" \"><img src=\"https://cdn.icon-icons.com/icons2/2699/PNG/96/kaggle_logo_icon_168474.png\" />Run in Kaggle</a>\n",
        "  </td>\n",
        "  <td>\n",
        "    <a target=\"_blank\" href=\"https://github.com/Mykrass/Supply_Chain_Clustering_Forecasting.git\"><img src=\"https://www.tensorflow.org/images/GitHub-Mark-32px.png\" />View source on GitHub</a>\n",
        "  </td>\n",
        "</table>"
      ],
      "metadata": {
        "id": "Q_dcYdCEfzCh"
      }
    },
    {
      "cell_type": "markdown",
      "source": [
        "# Git"
      ],
      "metadata": {
        "id": "AXezk5FAfr9x"
      }
    },
    {
      "cell_type": "code",
      "source": [
        "!git clone https://github.com/Mykrass/Supply_Chain_Clustering_Forecasting.git"
      ],
      "metadata": {
        "colab": {
          "base_uri": "https://localhost:8080/"
        },
        "id": "zA2XCyYHfpxI",
        "outputId": "cc9182e7-dd5e-48a0-d641-d8ede9752daf"
      },
      "execution_count": 1,
      "outputs": [
        {
          "output_type": "stream",
          "name": "stdout",
          "text": [
            "Cloning into 'Supply_Chain_Clustering_Forecasting'...\n",
            "remote: Enumerating objects: 1369, done.\u001b[K\n",
            "remote: Counting objects: 100% (1369/1369), done.\u001b[K\n",
            "remote: Compressing objects: 100% (1221/1221), done.\u001b[K\n",
            "remote: Total 1369 (delta 173), reused 1296 (delta 129), pack-reused 0\u001b[K\n",
            "Receiving objects: 100% (1369/1369), 33.09 MiB | 7.78 MiB/s, done.\n",
            "Resolving deltas: 100% (173/173), done.\n",
            "Updating files: 100% (22/22), done.\n"
          ]
        }
      ]
    },
    {
      "cell_type": "code",
      "source": [
        "!ls -GFlash --color ./Supply_Chain_Clustering_Forecasting/"
      ],
      "metadata": {
        "colab": {
          "base_uri": "https://localhost:8080/"
        },
        "id": "Ojnc43pefpsv",
        "outputId": "3157f816-81d4-4799-e0af-5d43828d2c37"
      },
      "execution_count": 2,
      "outputs": [
        {
          "output_type": "stream",
          "name": "stdout",
          "text": [
            "total 44K\n",
            "4.0K drwxr-xr-x 7 root 4.0K Jan 12 16:27 \u001b[0m\u001b[01;34m.\u001b[0m/\n",
            "4.0K drwxr-xr-x 1 root 4.0K Jan 12 16:27 \u001b[01;34m..\u001b[0m/\n",
            "4.0K drwxr-xr-x 4 root 4.0K Jan 12 16:27 \u001b[01;34mdata\u001b[0m/\n",
            "4.0K drwxr-xr-x 8 root 4.0K Jan 12 16:27 \u001b[01;34m.git\u001b[0m/\n",
            "4.0K -rw-r--r-- 1 root  210 Jan 12 16:27 .gitignore\n",
            "4.0K drwxr-xr-x 2 root 4.0K Jan 12 16:27 \u001b[01;34mnotebooks\u001b[0m/\n",
            "4.0K -rw-r--r-- 1 root  193 Jan 12 16:27 README.md\n",
            "4.0K -rw-r--r-- 1 root   82 Jan 12 16:27 requirements.txt\n",
            "4.0K -rw-r--r-- 1 root  277 Jan 12 16:27 setup.py\n",
            "4.0K drwxr-xr-x 2 root 4.0K Jan 12 16:27 \u001b[01;34msrc\u001b[0m/\n",
            "4.0K drwxr-xr-x 2 root 4.0K Jan 12 16:27 \u001b[01;34msupply_chain_clustering_forecasting.egg-info\u001b[0m/\n"
          ]
        }
      ]
    },
    {
      "cell_type": "code",
      "source": [
        "!ls -GFlash --color ./Supply_Chain_Clustering_Forecasting/src"
      ],
      "metadata": {
        "colab": {
          "base_uri": "https://localhost:8080/"
        },
        "id": "FHOCbflQfpof",
        "outputId": "0d12afb0-d967-4b3f-b560-bc0139d2bbab"
      },
      "execution_count": 3,
      "outputs": [
        {
          "output_type": "stream",
          "name": "stdout",
          "text": [
            "total 20K\n",
            "4.0K drwxr-xr-x 2 root 4.0K Jan 12 16:27 \u001b[0m\u001b[01;34m.\u001b[0m/\n",
            "4.0K drwxr-xr-x 7 root 4.0K Jan 12 16:27 \u001b[01;34m..\u001b[0m/\n",
            "4.0K -rw-r--r-- 1 root 3.8K Jan 12 16:27 data_preparation_automl_regression.py\n",
            "4.0K -rw-r--r-- 1 root 1.1K Jan 12 16:27 data_preparation_automl_timeseries.py\n",
            "4.0K -rw-r--r-- 1 root 2.6K Jan 12 16:27 data_preparation_forecasting.py\n",
            "   0 -rw-r--r-- 1 root    0 Jan 12 16:27 __init__.py\n"
          ]
        }
      ]
    },
    {
      "cell_type": "code",
      "source": [
        "!pip install pycaret"
      ],
      "metadata": {
        "colab": {
          "base_uri": "https://localhost:8080/",
          "height": 1000
        },
        "id": "aH8w4qnmf9dh",
        "outputId": "aa483eab-3961-4546-b1c9-3f64003b4a5f"
      },
      "execution_count": 4,
      "outputs": [
        {
          "output_type": "stream",
          "name": "stdout",
          "text": [
            "Collecting pycaret\n",
            "  Downloading pycaret-3.2.0-py3-none-any.whl (484 kB)\n",
            "\u001b[2K     \u001b[90m━━━━━━━━━━━━━━━━━━━━━━━━━━━━━━━━━━━━━━━━\u001b[0m \u001b[32m484.7/484.7 kB\u001b[0m \u001b[31m5.2 MB/s\u001b[0m eta \u001b[36m0:00:00\u001b[0m\n",
            "\u001b[?25hCollecting category-encoders>=2.4.0 (from pycaret)\n",
            "  Downloading category_encoders-2.6.3-py2.py3-none-any.whl (81 kB)\n",
            "\u001b[2K     \u001b[90m━━━━━━━━━━━━━━━━━━━━━━━━━━━━━━━━━━━━━━━━\u001b[0m \u001b[32m81.9/81.9 kB\u001b[0m \u001b[31m6.2 MB/s\u001b[0m eta \u001b[36m0:00:00\u001b[0m\n",
            "\u001b[?25hRequirement already satisfied: cloudpickle in /usr/local/lib/python3.10/dist-packages (from pycaret) (2.2.1)\n",
            "Collecting deprecation>=2.1.0 (from pycaret)\n",
            "  Downloading deprecation-2.1.0-py2.py3-none-any.whl (11 kB)\n",
            "Requirement already satisfied: imbalanced-learn>=0.8.1 in /usr/local/lib/python3.10/dist-packages (from pycaret) (0.10.1)\n",
            "Requirement already satisfied: importlib-metadata>=4.12.0 in /usr/local/lib/python3.10/dist-packages (from pycaret) (7.0.1)\n",
            "Requirement already satisfied: ipython>=5.5.0 in /usr/local/lib/python3.10/dist-packages (from pycaret) (7.34.0)\n",
            "Requirement already satisfied: ipywidgets>=7.6.5 in /usr/local/lib/python3.10/dist-packages (from pycaret) (7.7.1)\n",
            "Requirement already satisfied: jinja2>=1.2 in /usr/local/lib/python3.10/dist-packages (from pycaret) (3.1.2)\n",
            "Requirement already satisfied: joblib>=1.2.0 in /usr/local/lib/python3.10/dist-packages (from pycaret) (1.3.2)\n",
            "Collecting kaleido>=0.2.1 (from pycaret)\n",
            "  Downloading kaleido-0.2.1-py2.py3-none-manylinux1_x86_64.whl (79.9 MB)\n",
            "\u001b[2K     \u001b[90m━━━━━━━━━━━━━━━━━━━━━━━━━━━━━━━━━━━━━━━━\u001b[0m \u001b[32m79.9/79.9 MB\u001b[0m \u001b[31m8.5 MB/s\u001b[0m eta \u001b[36m0:00:00\u001b[0m\n",
            "\u001b[?25hRequirement already satisfied: lightgbm>=3.0.0 in /usr/local/lib/python3.10/dist-packages (from pycaret) (4.1.0)\n",
            "Requirement already satisfied: markupsafe>=2.0.1 in /usr/local/lib/python3.10/dist-packages (from pycaret) (2.1.3)\n",
            "Collecting matplotlib<=3.6,>=3.3.0 (from pycaret)\n",
            "  Downloading matplotlib-3.6.0-cp310-cp310-manylinux_2_17_x86_64.manylinux2014_x86_64.whl (11.8 MB)\n",
            "\u001b[2K     \u001b[90m━━━━━━━━━━━━━━━━━━━━━━━━━━━━━━━━━━━━━━━━\u001b[0m \u001b[32m11.8/11.8 MB\u001b[0m \u001b[31m87.0 MB/s\u001b[0m eta \u001b[36m0:00:00\u001b[0m\n",
            "\u001b[?25hRequirement already satisfied: nbformat>=4.2.0 in /usr/local/lib/python3.10/dist-packages (from pycaret) (5.9.2)\n",
            "Requirement already satisfied: numba>=0.55.0 in /usr/local/lib/python3.10/dist-packages (from pycaret) (0.58.1)\n",
            "Requirement already satisfied: numpy<1.27,>=1.21 in /usr/local/lib/python3.10/dist-packages (from pycaret) (1.23.5)\n",
            "Requirement already satisfied: pandas<2.0.0,>=1.3.0 in /usr/local/lib/python3.10/dist-packages (from pycaret) (1.5.3)\n",
            "Collecting plotly-resampler>=0.8.3.1 (from pycaret)\n",
            "  Downloading plotly_resampler-0.9.1-py3-none-any.whl (73 kB)\n",
            "\u001b[2K     \u001b[90m━━━━━━━━━━━━━━━━━━━━━━━━━━━━━━━━━━━━━━━━\u001b[0m \u001b[32m73.4/73.4 kB\u001b[0m \u001b[31m9.5 MB/s\u001b[0m eta \u001b[36m0:00:00\u001b[0m\n",
            "\u001b[?25hRequirement already satisfied: plotly>=5.0.0 in /usr/local/lib/python3.10/dist-packages (from pycaret) (5.15.0)\n",
            "Collecting pmdarima!=1.8.1,<3.0.0,>=1.8.0 (from pycaret)\n",
            "  Downloading pmdarima-2.0.4-cp310-cp310-manylinux_2_17_x86_64.manylinux2014_x86_64.manylinux_2_28_x86_64.whl (2.1 MB)\n",
            "\u001b[2K     \u001b[90m━━━━━━━━━━━━━━━━━━━━━━━━━━━━━━━━━━━━━━━━\u001b[0m \u001b[32m2.1/2.1 MB\u001b[0m \u001b[31m83.3 MB/s\u001b[0m eta \u001b[36m0:00:00\u001b[0m\n",
            "\u001b[?25hRequirement already satisfied: psutil>=5.9.0 in /usr/local/lib/python3.10/dist-packages (from pycaret) (5.9.5)\n",
            "Collecting pyod>=1.0.8 (from pycaret)\n",
            "  Downloading pyod-1.1.2.tar.gz (160 kB)\n",
            "\u001b[2K     \u001b[90m━━━━━━━━━━━━━━━━━━━━━━━━━━━━━━━━━━━━━━━━\u001b[0m \u001b[32m160.5/160.5 kB\u001b[0m \u001b[31m18.3 MB/s\u001b[0m eta \u001b[36m0:00:00\u001b[0m\n",
            "\u001b[?25h  Preparing metadata (setup.py) ... \u001b[?25l\u001b[?25hdone\n",
            "Requirement already satisfied: requests>=2.27.1 in /usr/local/lib/python3.10/dist-packages (from pycaret) (2.31.0)\n",
            "Collecting schemdraw==0.15 (from pycaret)\n",
            "  Downloading schemdraw-0.15-py3-none-any.whl (106 kB)\n",
            "\u001b[2K     \u001b[90m━━━━━━━━━━━━━━━━━━━━━━━━━━━━━━━━━━━━━━━━\u001b[0m \u001b[32m106.8/106.8 kB\u001b[0m \u001b[31m12.3 MB/s\u001b[0m eta \u001b[36m0:00:00\u001b[0m\n",
            "\u001b[?25hRequirement already satisfied: scikit-learn<1.3.0,>=1.0 in /usr/local/lib/python3.10/dist-packages (from pycaret) (1.2.2)\n",
            "Collecting scikit-plot>=0.3.7 (from pycaret)\n",
            "  Downloading scikit_plot-0.3.7-py3-none-any.whl (33 kB)\n",
            "Collecting scipy~=1.10.1 (from pycaret)\n",
            "  Downloading scipy-1.10.1-cp310-cp310-manylinux_2_17_x86_64.manylinux2014_x86_64.whl (34.4 MB)\n",
            "\u001b[2K     \u001b[90m━━━━━━━━━━━━━━━━━━━━━━━━━━━━━━━━━━━━━━━━\u001b[0m \u001b[32m34.4/34.4 MB\u001b[0m \u001b[31m28.6 MB/s\u001b[0m eta \u001b[36m0:00:00\u001b[0m\n",
            "\u001b[?25hCollecting sktime!=0.17.1,!=0.17.2,!=0.18.0,<0.22.0,>=0.16.1 (from pycaret)\n",
            "  Downloading sktime-0.21.1-py3-none-any.whl (17.1 MB)\n",
            "\u001b[2K     \u001b[90m━━━━━━━━━━━━━━━━━━━━━━━━━━━━━━━━━━━━━━━━\u001b[0m \u001b[32m17.1/17.1 MB\u001b[0m \u001b[31m15.5 MB/s\u001b[0m eta \u001b[36m0:00:00\u001b[0m\n",
            "\u001b[?25hRequirement already satisfied: statsmodels>=0.12.1 in /usr/local/lib/python3.10/dist-packages (from pycaret) (0.14.1)\n",
            "Collecting tbats>=1.1.3 (from pycaret)\n",
            "  Downloading tbats-1.1.3-py3-none-any.whl (44 kB)\n",
            "\u001b[2K     \u001b[90m━━━━━━━━━━━━━━━━━━━━━━━━━━━━━━━━━━━━━━━━\u001b[0m \u001b[32m44.0/44.0 kB\u001b[0m \u001b[31m5.6 MB/s\u001b[0m eta \u001b[36m0:00:00\u001b[0m\n",
            "\u001b[?25hRequirement already satisfied: tqdm>=4.62.0 in /usr/local/lib/python3.10/dist-packages (from pycaret) (4.66.1)\n",
            "Requirement already satisfied: xxhash in /usr/local/lib/python3.10/dist-packages (from pycaret) (3.4.1)\n",
            "Requirement already satisfied: yellowbrick>=1.4 in /usr/local/lib/python3.10/dist-packages (from pycaret) (1.5)\n",
            "Collecting wurlitzer (from pycaret)\n",
            "  Downloading wurlitzer-3.0.3-py3-none-any.whl (7.3 kB)\n",
            "Requirement already satisfied: patsy>=0.5.1 in /usr/local/lib/python3.10/dist-packages (from category-encoders>=2.4.0->pycaret) (0.5.6)\n",
            "Requirement already satisfied: packaging in /usr/local/lib/python3.10/dist-packages (from deprecation>=2.1.0->pycaret) (23.2)\n",
            "Requirement already satisfied: threadpoolctl>=2.0.0 in /usr/local/lib/python3.10/dist-packages (from imbalanced-learn>=0.8.1->pycaret) (3.2.0)\n",
            "Requirement already satisfied: zipp>=0.5 in /usr/local/lib/python3.10/dist-packages (from importlib-metadata>=4.12.0->pycaret) (3.17.0)\n",
            "Requirement already satisfied: setuptools>=18.5 in /usr/local/lib/python3.10/dist-packages (from ipython>=5.5.0->pycaret) (67.7.2)\n",
            "Collecting jedi>=0.16 (from ipython>=5.5.0->pycaret)\n",
            "  Downloading jedi-0.19.1-py2.py3-none-any.whl (1.6 MB)\n",
            "\u001b[2K     \u001b[90m━━━━━━━━━━━━━━━━━━━━━━━━━━━━━━━━━━━━━━━━\u001b[0m \u001b[32m1.6/1.6 MB\u001b[0m \u001b[31m61.4 MB/s\u001b[0m eta \u001b[36m0:00:00\u001b[0m\n",
            "\u001b[?25hRequirement already satisfied: decorator in /usr/local/lib/python3.10/dist-packages (from ipython>=5.5.0->pycaret) (4.4.2)\n",
            "Requirement already satisfied: pickleshare in /usr/local/lib/python3.10/dist-packages (from ipython>=5.5.0->pycaret) (0.7.5)\n",
            "Requirement already satisfied: traitlets>=4.2 in /usr/local/lib/python3.10/dist-packages (from ipython>=5.5.0->pycaret) (5.7.1)\n",
            "Requirement already satisfied: prompt-toolkit!=3.0.0,!=3.0.1,<3.1.0,>=2.0.0 in /usr/local/lib/python3.10/dist-packages (from ipython>=5.5.0->pycaret) (3.0.43)\n",
            "Requirement already satisfied: pygments in /usr/local/lib/python3.10/dist-packages (from ipython>=5.5.0->pycaret) (2.16.1)\n",
            "Requirement already satisfied: backcall in /usr/local/lib/python3.10/dist-packages (from ipython>=5.5.0->pycaret) (0.2.0)\n",
            "Requirement already satisfied: matplotlib-inline in /usr/local/lib/python3.10/dist-packages (from ipython>=5.5.0->pycaret) (0.1.6)\n",
            "Requirement already satisfied: pexpect>4.3 in /usr/local/lib/python3.10/dist-packages (from ipython>=5.5.0->pycaret) (4.9.0)\n",
            "Requirement already satisfied: ipykernel>=4.5.1 in /usr/local/lib/python3.10/dist-packages (from ipywidgets>=7.6.5->pycaret) (5.5.6)\n",
            "Requirement already satisfied: ipython-genutils~=0.2.0 in /usr/local/lib/python3.10/dist-packages (from ipywidgets>=7.6.5->pycaret) (0.2.0)\n",
            "Requirement already satisfied: widgetsnbextension~=3.6.0 in /usr/local/lib/python3.10/dist-packages (from ipywidgets>=7.6.5->pycaret) (3.6.6)\n",
            "Requirement already satisfied: jupyterlab-widgets>=1.0.0 in /usr/local/lib/python3.10/dist-packages (from ipywidgets>=7.6.5->pycaret) (3.0.9)\n",
            "Requirement already satisfied: contourpy>=1.0.1 in /usr/local/lib/python3.10/dist-packages (from matplotlib<=3.6,>=3.3.0->pycaret) (1.2.0)\n",
            "Requirement already satisfied: cycler>=0.10 in /usr/local/lib/python3.10/dist-packages (from matplotlib<=3.6,>=3.3.0->pycaret) (0.12.1)\n",
            "Requirement already satisfied: fonttools>=4.22.0 in /usr/local/lib/python3.10/dist-packages (from matplotlib<=3.6,>=3.3.0->pycaret) (4.47.0)\n",
            "Requirement already satisfied: kiwisolver>=1.0.1 in /usr/local/lib/python3.10/dist-packages (from matplotlib<=3.6,>=3.3.0->pycaret) (1.4.5)\n",
            "Requirement already satisfied: pillow>=6.2.0 in /usr/local/lib/python3.10/dist-packages (from matplotlib<=3.6,>=3.3.0->pycaret) (9.4.0)\n",
            "Requirement already satisfied: pyparsing>=2.2.1 in /usr/local/lib/python3.10/dist-packages (from matplotlib<=3.6,>=3.3.0->pycaret) (3.1.1)\n",
            "Requirement already satisfied: python-dateutil>=2.7 in /usr/local/lib/python3.10/dist-packages (from matplotlib<=3.6,>=3.3.0->pycaret) (2.8.2)\n",
            "Requirement already satisfied: fastjsonschema in /usr/local/lib/python3.10/dist-packages (from nbformat>=4.2.0->pycaret) (2.19.1)\n",
            "Requirement already satisfied: jsonschema>=2.6 in /usr/local/lib/python3.10/dist-packages (from nbformat>=4.2.0->pycaret) (4.19.2)\n",
            "Requirement already satisfied: jupyter-core in /usr/local/lib/python3.10/dist-packages (from nbformat>=4.2.0->pycaret) (5.7.0)\n",
            "Requirement already satisfied: llvmlite<0.42,>=0.41.0dev0 in /usr/local/lib/python3.10/dist-packages (from numba>=0.55.0->pycaret) (0.41.1)\n",
            "Requirement already satisfied: pytz>=2020.1 in /usr/local/lib/python3.10/dist-packages (from pandas<2.0.0,>=1.3.0->pycaret) (2023.3.post1)\n",
            "Requirement already satisfied: tenacity>=6.2.0 in /usr/local/lib/python3.10/dist-packages (from plotly>=5.0.0->pycaret) (8.2.3)\n",
            "Collecting dash<3.0.0,>=2.11.0 (from plotly-resampler>=0.8.3.1->pycaret)\n",
            "  Downloading dash-2.14.2-py3-none-any.whl (10.2 MB)\n",
            "\u001b[2K     \u001b[90m━━━━━━━━━━━━━━━━━━━━━━━━━━━━━━━━━━━━━━━━\u001b[0m \u001b[32m10.2/10.2 MB\u001b[0m \u001b[31m86.2 MB/s\u001b[0m eta \u001b[36m0:00:00\u001b[0m\n",
            "\u001b[?25hCollecting orjson<4.0.0,>=3.8.0 (from plotly-resampler>=0.8.3.1->pycaret)\n",
            "  Downloading orjson-3.9.10-cp310-cp310-manylinux_2_17_x86_64.manylinux2014_x86_64.whl (138 kB)\n",
            "\u001b[2K     \u001b[90m━━━━━━━━━━━━━━━━━━━━━━━━━━━━━━━━━━━━━━━━\u001b[0m \u001b[32m138.7/138.7 kB\u001b[0m \u001b[31m19.6 MB/s\u001b[0m eta \u001b[36m0:00:00\u001b[0m\n",
            "\u001b[?25hCollecting trace-updater>=0.0.8 (from plotly-resampler>=0.8.3.1->pycaret)\n",
            "  Downloading trace_updater-0.0.9.1-py3-none-any.whl (185 kB)\n",
            "\u001b[2K     \u001b[90m━━━━━━━━━━━━━━━━━━━━━━━━━━━━━━━━━━━━━━━━\u001b[0m \u001b[32m185.2/185.2 kB\u001b[0m \u001b[31m26.1 MB/s\u001b[0m eta \u001b[36m0:00:00\u001b[0m\n",
            "\u001b[?25hCollecting tsdownsample==0.1.2 (from plotly-resampler>=0.8.3.1->pycaret)\n",
            "  Downloading tsdownsample-0.1.2-cp310-cp310-manylinux_2_17_x86_64.manylinux2014_x86_64.whl (2.3 MB)\n",
            "\u001b[2K     \u001b[90m━━━━━━━━━━━━━━━━━━━━━━━━━━━━━━━━━━━━━━━━\u001b[0m \u001b[32m2.3/2.3 MB\u001b[0m \u001b[31m82.5 MB/s\u001b[0m eta \u001b[36m0:00:00\u001b[0m\n",
            "\u001b[?25hRequirement already satisfied: Cython!=0.29.18,!=0.29.31,>=0.29 in /usr/local/lib/python3.10/dist-packages (from pmdarima!=1.8.1,<3.0.0,>=1.8.0->pycaret) (3.0.7)\n",
            "Requirement already satisfied: urllib3 in /usr/local/lib/python3.10/dist-packages (from pmdarima!=1.8.1,<3.0.0,>=1.8.0->pycaret) (2.0.7)\n",
            "Requirement already satisfied: six in /usr/local/lib/python3.10/dist-packages (from pyod>=1.0.8->pycaret) (1.16.0)\n",
            "Requirement already satisfied: charset-normalizer<4,>=2 in /usr/local/lib/python3.10/dist-packages (from requests>=2.27.1->pycaret) (3.3.2)\n",
            "Requirement already satisfied: idna<4,>=2.5 in /usr/local/lib/python3.10/dist-packages (from requests>=2.27.1->pycaret) (3.6)\n",
            "Requirement already satisfied: certifi>=2017.4.17 in /usr/local/lib/python3.10/dist-packages (from requests>=2.27.1->pycaret) (2023.11.17)\n",
            "Collecting deprecated>=1.2.13 (from sktime!=0.17.1,!=0.17.2,!=0.18.0,<0.22.0,>=0.16.1->pycaret)\n",
            "  Downloading Deprecated-1.2.14-py2.py3-none-any.whl (9.6 kB)\n",
            "Collecting scikit-base<0.6.0 (from sktime!=0.17.1,!=0.17.2,!=0.18.0,<0.22.0,>=0.16.1->pycaret)\n",
            "  Downloading scikit_base-0.5.2-py3-none-any.whl (118 kB)\n",
            "\u001b[2K     \u001b[90m━━━━━━━━━━━━━━━━━━━━━━━━━━━━━━━━━━━━━━━━\u001b[0m \u001b[32m119.0/119.0 kB\u001b[0m \u001b[31m16.8 MB/s\u001b[0m eta \u001b[36m0:00:00\u001b[0m\n",
            "\u001b[?25hRequirement already satisfied: Flask<3.1,>=1.0.4 in /usr/local/lib/python3.10/dist-packages (from dash<3.0.0,>=2.11.0->plotly-resampler>=0.8.3.1->pycaret) (2.2.5)\n",
            "Requirement already satisfied: Werkzeug<3.1 in /usr/local/lib/python3.10/dist-packages (from dash<3.0.0,>=2.11.0->plotly-resampler>=0.8.3.1->pycaret) (3.0.1)\n",
            "Collecting dash-html-components==2.0.0 (from dash<3.0.0,>=2.11.0->plotly-resampler>=0.8.3.1->pycaret)\n",
            "  Downloading dash_html_components-2.0.0-py3-none-any.whl (4.1 kB)\n",
            "Collecting dash-core-components==2.0.0 (from dash<3.0.0,>=2.11.0->plotly-resampler>=0.8.3.1->pycaret)\n",
            "  Downloading dash_core_components-2.0.0-py3-none-any.whl (3.8 kB)\n",
            "Collecting dash-table==5.0.0 (from dash<3.0.0,>=2.11.0->plotly-resampler>=0.8.3.1->pycaret)\n",
            "  Downloading dash_table-5.0.0-py3-none-any.whl (3.9 kB)\n",
            "Requirement already satisfied: typing-extensions>=4.1.1 in /usr/local/lib/python3.10/dist-packages (from dash<3.0.0,>=2.11.0->plotly-resampler>=0.8.3.1->pycaret) (4.5.0)\n",
            "Collecting retrying (from dash<3.0.0,>=2.11.0->plotly-resampler>=0.8.3.1->pycaret)\n",
            "  Downloading retrying-1.3.4-py3-none-any.whl (11 kB)\n",
            "Collecting ansi2html (from dash<3.0.0,>=2.11.0->plotly-resampler>=0.8.3.1->pycaret)\n",
            "  Downloading ansi2html-1.9.1-py3-none-any.whl (17 kB)\n",
            "Requirement already satisfied: nest-asyncio in /usr/local/lib/python3.10/dist-packages (from dash<3.0.0,>=2.11.0->plotly-resampler>=0.8.3.1->pycaret) (1.5.8)\n",
            "Requirement already satisfied: wrapt<2,>=1.10 in /usr/local/lib/python3.10/dist-packages (from deprecated>=1.2.13->sktime!=0.17.1,!=0.17.2,!=0.18.0,<0.22.0,>=0.16.1->pycaret) (1.14.1)\n",
            "Requirement already satisfied: jupyter-client in /usr/local/lib/python3.10/dist-packages (from ipykernel>=4.5.1->ipywidgets>=7.6.5->pycaret) (6.1.12)\n",
            "Requirement already satisfied: tornado>=4.2 in /usr/local/lib/python3.10/dist-packages (from ipykernel>=4.5.1->ipywidgets>=7.6.5->pycaret) (6.3.2)\n",
            "Requirement already satisfied: parso<0.9.0,>=0.8.3 in /usr/local/lib/python3.10/dist-packages (from jedi>=0.16->ipython>=5.5.0->pycaret) (0.8.3)\n",
            "Requirement already satisfied: attrs>=22.2.0 in /usr/local/lib/python3.10/dist-packages (from jsonschema>=2.6->nbformat>=4.2.0->pycaret) (23.2.0)\n",
            "Requirement already satisfied: jsonschema-specifications>=2023.03.6 in /usr/local/lib/python3.10/dist-packages (from jsonschema>=2.6->nbformat>=4.2.0->pycaret) (2023.12.1)\n",
            "Requirement already satisfied: referencing>=0.28.4 in /usr/local/lib/python3.10/dist-packages (from jsonschema>=2.6->nbformat>=4.2.0->pycaret) (0.32.1)\n",
            "Requirement already satisfied: rpds-py>=0.7.1 in /usr/local/lib/python3.10/dist-packages (from jsonschema>=2.6->nbformat>=4.2.0->pycaret) (0.16.2)\n",
            "Requirement already satisfied: ptyprocess>=0.5 in /usr/local/lib/python3.10/dist-packages (from pexpect>4.3->ipython>=5.5.0->pycaret) (0.7.0)\n",
            "Requirement already satisfied: wcwidth in /usr/local/lib/python3.10/dist-packages (from prompt-toolkit!=3.0.0,!=3.0.1,<3.1.0,>=2.0.0->ipython>=5.5.0->pycaret) (0.2.12)\n",
            "Requirement already satisfied: notebook>=4.4.1 in /usr/local/lib/python3.10/dist-packages (from widgetsnbextension~=3.6.0->ipywidgets>=7.6.5->pycaret) (6.5.5)\n",
            "Requirement already satisfied: platformdirs>=2.5 in /usr/local/lib/python3.10/dist-packages (from jupyter-core->nbformat>=4.2.0->pycaret) (4.1.0)\n",
            "Requirement already satisfied: itsdangerous>=2.0 in /usr/local/lib/python3.10/dist-packages (from Flask<3.1,>=1.0.4->dash<3.0.0,>=2.11.0->plotly-resampler>=0.8.3.1->pycaret) (2.1.2)\n",
            "Requirement already satisfied: click>=8.0 in /usr/local/lib/python3.10/dist-packages (from Flask<3.1,>=1.0.4->dash<3.0.0,>=2.11.0->plotly-resampler>=0.8.3.1->pycaret) (8.1.7)\n",
            "Requirement already satisfied: pyzmq<25,>=17 in /usr/local/lib/python3.10/dist-packages (from notebook>=4.4.1->widgetsnbextension~=3.6.0->ipywidgets>=7.6.5->pycaret) (23.2.1)\n",
            "Requirement already satisfied: argon2-cffi in /usr/local/lib/python3.10/dist-packages (from notebook>=4.4.1->widgetsnbextension~=3.6.0->ipywidgets>=7.6.5->pycaret) (23.1.0)\n",
            "Requirement already satisfied: nbconvert>=5 in /usr/local/lib/python3.10/dist-packages (from notebook>=4.4.1->widgetsnbextension~=3.6.0->ipywidgets>=7.6.5->pycaret) (6.5.4)\n",
            "Requirement already satisfied: Send2Trash>=1.8.0 in /usr/local/lib/python3.10/dist-packages (from notebook>=4.4.1->widgetsnbextension~=3.6.0->ipywidgets>=7.6.5->pycaret) (1.8.2)\n",
            "Requirement already satisfied: terminado>=0.8.3 in /usr/local/lib/python3.10/dist-packages (from notebook>=4.4.1->widgetsnbextension~=3.6.0->ipywidgets>=7.6.5->pycaret) (0.18.0)\n",
            "Requirement already satisfied: prometheus-client in /usr/local/lib/python3.10/dist-packages (from notebook>=4.4.1->widgetsnbextension~=3.6.0->ipywidgets>=7.6.5->pycaret) (0.19.0)\n",
            "Requirement already satisfied: nbclassic>=0.4.7 in /usr/local/lib/python3.10/dist-packages (from notebook>=4.4.1->widgetsnbextension~=3.6.0->ipywidgets>=7.6.5->pycaret) (1.0.0)\n",
            "Requirement already satisfied: jupyter-server>=1.8 in /usr/local/lib/python3.10/dist-packages (from nbclassic>=0.4.7->notebook>=4.4.1->widgetsnbextension~=3.6.0->ipywidgets>=7.6.5->pycaret) (1.24.0)\n",
            "Requirement already satisfied: notebook-shim>=0.2.3 in /usr/local/lib/python3.10/dist-packages (from nbclassic>=0.4.7->notebook>=4.4.1->widgetsnbextension~=3.6.0->ipywidgets>=7.6.5->pycaret) (0.2.3)\n",
            "Requirement already satisfied: lxml in /usr/local/lib/python3.10/dist-packages (from nbconvert>=5->notebook>=4.4.1->widgetsnbextension~=3.6.0->ipywidgets>=7.6.5->pycaret) (4.9.4)\n",
            "Requirement already satisfied: beautifulsoup4 in /usr/local/lib/python3.10/dist-packages (from nbconvert>=5->notebook>=4.4.1->widgetsnbextension~=3.6.0->ipywidgets>=7.6.5->pycaret) (4.11.2)\n",
            "Requirement already satisfied: bleach in /usr/local/lib/python3.10/dist-packages (from nbconvert>=5->notebook>=4.4.1->widgetsnbextension~=3.6.0->ipywidgets>=7.6.5->pycaret) (6.1.0)\n",
            "Requirement already satisfied: defusedxml in /usr/local/lib/python3.10/dist-packages (from nbconvert>=5->notebook>=4.4.1->widgetsnbextension~=3.6.0->ipywidgets>=7.6.5->pycaret) (0.7.1)\n",
            "Requirement already satisfied: entrypoints>=0.2.2 in /usr/local/lib/python3.10/dist-packages (from nbconvert>=5->notebook>=4.4.1->widgetsnbextension~=3.6.0->ipywidgets>=7.6.5->pycaret) (0.4)\n",
            "Requirement already satisfied: jupyterlab-pygments in /usr/local/lib/python3.10/dist-packages (from nbconvert>=5->notebook>=4.4.1->widgetsnbextension~=3.6.0->ipywidgets>=7.6.5->pycaret) (0.3.0)\n",
            "Requirement already satisfied: mistune<2,>=0.8.1 in /usr/local/lib/python3.10/dist-packages (from nbconvert>=5->notebook>=4.4.1->widgetsnbextension~=3.6.0->ipywidgets>=7.6.5->pycaret) (0.8.4)\n",
            "Requirement already satisfied: nbclient>=0.5.0 in /usr/local/lib/python3.10/dist-packages (from nbconvert>=5->notebook>=4.4.1->widgetsnbextension~=3.6.0->ipywidgets>=7.6.5->pycaret) (0.9.0)\n",
            "Requirement already satisfied: pandocfilters>=1.4.1 in /usr/local/lib/python3.10/dist-packages (from nbconvert>=5->notebook>=4.4.1->widgetsnbextension~=3.6.0->ipywidgets>=7.6.5->pycaret) (1.5.0)\n",
            "Requirement already satisfied: tinycss2 in /usr/local/lib/python3.10/dist-packages (from nbconvert>=5->notebook>=4.4.1->widgetsnbextension~=3.6.0->ipywidgets>=7.6.5->pycaret) (1.2.1)\n",
            "Requirement already satisfied: argon2-cffi-bindings in /usr/local/lib/python3.10/dist-packages (from argon2-cffi->notebook>=4.4.1->widgetsnbextension~=3.6.0->ipywidgets>=7.6.5->pycaret) (21.2.0)\n",
            "Requirement already satisfied: anyio<4,>=3.1.0 in /usr/local/lib/python3.10/dist-packages (from jupyter-server>=1.8->nbclassic>=0.4.7->notebook>=4.4.1->widgetsnbextension~=3.6.0->ipywidgets>=7.6.5->pycaret) (3.7.1)\n",
            "Requirement already satisfied: websocket-client in /usr/local/lib/python3.10/dist-packages (from jupyter-server>=1.8->nbclassic>=0.4.7->notebook>=4.4.1->widgetsnbextension~=3.6.0->ipywidgets>=7.6.5->pycaret) (1.7.0)\n",
            "Requirement already satisfied: cffi>=1.0.1 in /usr/local/lib/python3.10/dist-packages (from argon2-cffi-bindings->argon2-cffi->notebook>=4.4.1->widgetsnbextension~=3.6.0->ipywidgets>=7.6.5->pycaret) (1.16.0)\n",
            "Requirement already satisfied: soupsieve>1.2 in /usr/local/lib/python3.10/dist-packages (from beautifulsoup4->nbconvert>=5->notebook>=4.4.1->widgetsnbextension~=3.6.0->ipywidgets>=7.6.5->pycaret) (2.5)\n",
            "Requirement already satisfied: webencodings in /usr/local/lib/python3.10/dist-packages (from bleach->nbconvert>=5->notebook>=4.4.1->widgetsnbextension~=3.6.0->ipywidgets>=7.6.5->pycaret) (0.5.1)\n",
            "Requirement already satisfied: sniffio>=1.1 in /usr/local/lib/python3.10/dist-packages (from anyio<4,>=3.1.0->jupyter-server>=1.8->nbclassic>=0.4.7->notebook>=4.4.1->widgetsnbextension~=3.6.0->ipywidgets>=7.6.5->pycaret) (1.3.0)\n",
            "Requirement already satisfied: exceptiongroup in /usr/local/lib/python3.10/dist-packages (from anyio<4,>=3.1.0->jupyter-server>=1.8->nbclassic>=0.4.7->notebook>=4.4.1->widgetsnbextension~=3.6.0->ipywidgets>=7.6.5->pycaret) (1.2.0)\n",
            "Requirement already satisfied: pycparser in /usr/local/lib/python3.10/dist-packages (from cffi>=1.0.1->argon2-cffi-bindings->argon2-cffi->notebook>=4.4.1->widgetsnbextension~=3.6.0->ipywidgets>=7.6.5->pycaret) (2.21)\n",
            "Building wheels for collected packages: pyod\n",
            "  Building wheel for pyod (setup.py) ... \u001b[?25l\u001b[?25hdone\n",
            "  Created wheel for pyod: filename=pyod-1.1.2-py3-none-any.whl size=190292 sha256=247fc68ef6924fd9cf5717d6a9689d6e115db934a4c61d6f317d83c6f8a413b5\n",
            "  Stored in directory: /root/.cache/pip/wheels/81/1b/61/aa85b78c3c0c8871f4231e3f4a03bb23cecb7db829498380ee\n",
            "Successfully built pyod\n",
            "Installing collected packages: trace-updater, kaleido, dash-table, dash-html-components, dash-core-components, wurlitzer, tsdownsample, scipy, scikit-base, schemdraw, retrying, orjson, jedi, deprecation, deprecated, ansi2html, matplotlib, sktime, scikit-plot, pyod, dash, pmdarima, plotly-resampler, category-encoders, tbats, pycaret\n",
            "  Attempting uninstall: scipy\n",
            "    Found existing installation: scipy 1.11.4\n",
            "    Uninstalling scipy-1.11.4:\n",
            "      Successfully uninstalled scipy-1.11.4\n",
            "  Attempting uninstall: matplotlib\n",
            "    Found existing installation: matplotlib 3.7.1\n",
            "    Uninstalling matplotlib-3.7.1:\n",
            "      Successfully uninstalled matplotlib-3.7.1\n",
            "\u001b[31mERROR: pip's dependency resolver does not currently take into account all the packages that are installed. This behaviour is the source of the following dependency conflicts.\n",
            "lida 0.0.10 requires fastapi, which is not installed.\n",
            "lida 0.0.10 requires python-multipart, which is not installed.\n",
            "lida 0.0.10 requires uvicorn, which is not installed.\u001b[0m\u001b[31m\n",
            "\u001b[0mSuccessfully installed ansi2html-1.9.1 category-encoders-2.6.3 dash-2.14.2 dash-core-components-2.0.0 dash-html-components-2.0.0 dash-table-5.0.0 deprecated-1.2.14 deprecation-2.1.0 jedi-0.19.1 kaleido-0.2.1 matplotlib-3.6.0 orjson-3.9.10 plotly-resampler-0.9.1 pmdarima-2.0.4 pycaret-3.2.0 pyod-1.1.2 retrying-1.3.4 schemdraw-0.15 scikit-base-0.5.2 scikit-plot-0.3.7 scipy-1.10.1 sktime-0.21.1 tbats-1.1.3 trace-updater-0.0.9.1 tsdownsample-0.1.2 wurlitzer-3.0.3\n"
          ]
        },
        {
          "output_type": "display_data",
          "data": {
            "application/vnd.colab-display-data+json": {
              "pip_warning": {
                "packages": [
                  "matplotlib",
                  "mpl_toolkits"
                ]
              }
            }
          },
          "metadata": {}
        }
      ]
    },
    {
      "cell_type": "code",
      "execution_count": 5,
      "metadata": {
        "id": "fGTeJRnJfX3y"
      },
      "outputs": [],
      "source": [
        "# Import libraries\n",
        "import pandas as pd\n",
        "import sys\n",
        "import os\n",
        "import warnings\n",
        "import matplotlib.pyplot as plt\n",
        "\n",
        "#\n",
        "from pycaret.regression import *\n",
        "sys.path.append('/content/Supply_Chain_Clustering_Forecasting')\n",
        "from src.data_preparation_automl_timeseries import load_data\n",
        "from src.data_preparation_automl_regression import *\n",
        "\n",
        "# Set options for displaying dataframes and figures\n",
        "pd.set_option('display.max_columns', None)\n",
        "warnings.filterwarnings(\"ignore\", category=FutureWarning)\n",
        "pd.options.mode.chained_assignment = None"
      ]
    },
    {
      "cell_type": "markdown",
      "metadata": {
        "id": "riEjvrVefX31"
      },
      "source": [
        "# Forecasting with PyCaret Regression"
      ]
    },
    {
      "cell_type": "markdown",
      "metadata": {
        "id": "mXSOq_01fX33"
      },
      "source": [
        "#### Load Data"
      ]
    },
    {
      "cell_type": "code",
      "execution_count": 23,
      "metadata": {
        "colab": {
          "base_uri": "https://localhost:8080/",
          "height": 455
        },
        "id": "oqaCJyGPfX33",
        "outputId": "d70d05eb-b8a0-4d6b-ace7-180b75d1366c"
      },
      "outputs": [
        {
          "output_type": "execute_result",
          "data": {
            "text/plain": [
              "            Sales_Qty  Year  Quarter  Month  Day_of_Week  lag_1_day  \\\n",
              "Date                                                                  \n",
              "2014-02-02        217  2014        1      2            6        369   \n",
              "2014-02-03         97  2014        1      2            0        217   \n",
              "2014-02-04        117  2014        1      2            1         97   \n",
              "2014-02-05        100  2014        1      2            2        117   \n",
              "2014-02-06         64  2014        1      2            3        100   \n",
              "...               ...   ...      ...    ...          ...        ...   \n",
              "2016-07-27         98  2016        3      7            2         97   \n",
              "2016-07-28        108  2016        3      7            3         98   \n",
              "2016-07-29        128  2016        3      7            4        108   \n",
              "2016-07-30        270  2016        3      7            5        128   \n",
              "2016-07-31        183  2016        3      7            6        270   \n",
              "\n",
              "            lag_7_days  lag_30_days  \n",
              "Date                                 \n",
              "2014-02-02         168           70  \n",
              "2014-02-03         125           59  \n",
              "2014-02-04          86           93  \n",
              "2014-02-05         222           96  \n",
              "2014-02-06         272          145  \n",
              "...                ...          ...  \n",
              "2016-07-27         283          123  \n",
              "2016-07-28          60           78  \n",
              "2016-07-29          98          130  \n",
              "2016-07-30         133          141  \n",
              "2016-07-31         130          247  \n",
              "\n",
              "[795 rows x 8 columns]"
            ],
            "text/html": [
              "\n",
              "  <div id=\"df-3910638d-4fdf-43ca-97eb-b7c39f1423e8\" class=\"colab-df-container\">\n",
              "    <div>\n",
              "<style scoped>\n",
              "    .dataframe tbody tr th:only-of-type {\n",
              "        vertical-align: middle;\n",
              "    }\n",
              "\n",
              "    .dataframe tbody tr th {\n",
              "        vertical-align: top;\n",
              "    }\n",
              "\n",
              "    .dataframe thead th {\n",
              "        text-align: right;\n",
              "    }\n",
              "</style>\n",
              "<table border=\"1\" class=\"dataframe\">\n",
              "  <thead>\n",
              "    <tr style=\"text-align: right;\">\n",
              "      <th></th>\n",
              "      <th>Sales_Qty</th>\n",
              "      <th>Year</th>\n",
              "      <th>Quarter</th>\n",
              "      <th>Month</th>\n",
              "      <th>Day_of_Week</th>\n",
              "      <th>lag_1_day</th>\n",
              "      <th>lag_7_days</th>\n",
              "      <th>lag_30_days</th>\n",
              "    </tr>\n",
              "    <tr>\n",
              "      <th>Date</th>\n",
              "      <th></th>\n",
              "      <th></th>\n",
              "      <th></th>\n",
              "      <th></th>\n",
              "      <th></th>\n",
              "      <th></th>\n",
              "      <th></th>\n",
              "      <th></th>\n",
              "    </tr>\n",
              "  </thead>\n",
              "  <tbody>\n",
              "    <tr>\n",
              "      <th>2014-02-02</th>\n",
              "      <td>217</td>\n",
              "      <td>2014</td>\n",
              "      <td>1</td>\n",
              "      <td>2</td>\n",
              "      <td>6</td>\n",
              "      <td>369</td>\n",
              "      <td>168</td>\n",
              "      <td>70</td>\n",
              "    </tr>\n",
              "    <tr>\n",
              "      <th>2014-02-03</th>\n",
              "      <td>97</td>\n",
              "      <td>2014</td>\n",
              "      <td>1</td>\n",
              "      <td>2</td>\n",
              "      <td>0</td>\n",
              "      <td>217</td>\n",
              "      <td>125</td>\n",
              "      <td>59</td>\n",
              "    </tr>\n",
              "    <tr>\n",
              "      <th>2014-02-04</th>\n",
              "      <td>117</td>\n",
              "      <td>2014</td>\n",
              "      <td>1</td>\n",
              "      <td>2</td>\n",
              "      <td>1</td>\n",
              "      <td>97</td>\n",
              "      <td>86</td>\n",
              "      <td>93</td>\n",
              "    </tr>\n",
              "    <tr>\n",
              "      <th>2014-02-05</th>\n",
              "      <td>100</td>\n",
              "      <td>2014</td>\n",
              "      <td>1</td>\n",
              "      <td>2</td>\n",
              "      <td>2</td>\n",
              "      <td>117</td>\n",
              "      <td>222</td>\n",
              "      <td>96</td>\n",
              "    </tr>\n",
              "    <tr>\n",
              "      <th>2014-02-06</th>\n",
              "      <td>64</td>\n",
              "      <td>2014</td>\n",
              "      <td>1</td>\n",
              "      <td>2</td>\n",
              "      <td>3</td>\n",
              "      <td>100</td>\n",
              "      <td>272</td>\n",
              "      <td>145</td>\n",
              "    </tr>\n",
              "    <tr>\n",
              "      <th>...</th>\n",
              "      <td>...</td>\n",
              "      <td>...</td>\n",
              "      <td>...</td>\n",
              "      <td>...</td>\n",
              "      <td>...</td>\n",
              "      <td>...</td>\n",
              "      <td>...</td>\n",
              "      <td>...</td>\n",
              "    </tr>\n",
              "    <tr>\n",
              "      <th>2016-07-27</th>\n",
              "      <td>98</td>\n",
              "      <td>2016</td>\n",
              "      <td>3</td>\n",
              "      <td>7</td>\n",
              "      <td>2</td>\n",
              "      <td>97</td>\n",
              "      <td>283</td>\n",
              "      <td>123</td>\n",
              "    </tr>\n",
              "    <tr>\n",
              "      <th>2016-07-28</th>\n",
              "      <td>108</td>\n",
              "      <td>2016</td>\n",
              "      <td>3</td>\n",
              "      <td>7</td>\n",
              "      <td>3</td>\n",
              "      <td>98</td>\n",
              "      <td>60</td>\n",
              "      <td>78</td>\n",
              "    </tr>\n",
              "    <tr>\n",
              "      <th>2016-07-29</th>\n",
              "      <td>128</td>\n",
              "      <td>2016</td>\n",
              "      <td>3</td>\n",
              "      <td>7</td>\n",
              "      <td>4</td>\n",
              "      <td>108</td>\n",
              "      <td>98</td>\n",
              "      <td>130</td>\n",
              "    </tr>\n",
              "    <tr>\n",
              "      <th>2016-07-30</th>\n",
              "      <td>270</td>\n",
              "      <td>2016</td>\n",
              "      <td>3</td>\n",
              "      <td>7</td>\n",
              "      <td>5</td>\n",
              "      <td>128</td>\n",
              "      <td>133</td>\n",
              "      <td>141</td>\n",
              "    </tr>\n",
              "    <tr>\n",
              "      <th>2016-07-31</th>\n",
              "      <td>183</td>\n",
              "      <td>2016</td>\n",
              "      <td>3</td>\n",
              "      <td>7</td>\n",
              "      <td>6</td>\n",
              "      <td>270</td>\n",
              "      <td>130</td>\n",
              "      <td>247</td>\n",
              "    </tr>\n",
              "  </tbody>\n",
              "</table>\n",
              "<p>795 rows × 8 columns</p>\n",
              "</div>\n",
              "    <div class=\"colab-df-buttons\">\n",
              "\n",
              "  <div class=\"colab-df-container\">\n",
              "    <button class=\"colab-df-convert\" onclick=\"convertToInteractive('df-3910638d-4fdf-43ca-97eb-b7c39f1423e8')\"\n",
              "            title=\"Convert this dataframe to an interactive table.\"\n",
              "            style=\"display:none;\">\n",
              "\n",
              "  <svg xmlns=\"http://www.w3.org/2000/svg\" height=\"24px\" viewBox=\"0 -960 960 960\">\n",
              "    <path d=\"M120-120v-720h720v720H120Zm60-500h600v-160H180v160Zm220 220h160v-160H400v160Zm0 220h160v-160H400v160ZM180-400h160v-160H180v160Zm440 0h160v-160H620v160ZM180-180h160v-160H180v160Zm440 0h160v-160H620v160Z\"/>\n",
              "  </svg>\n",
              "    </button>\n",
              "\n",
              "  <style>\n",
              "    .colab-df-container {\n",
              "      display:flex;\n",
              "      gap: 12px;\n",
              "    }\n",
              "\n",
              "    .colab-df-convert {\n",
              "      background-color: #E8F0FE;\n",
              "      border: none;\n",
              "      border-radius: 50%;\n",
              "      cursor: pointer;\n",
              "      display: none;\n",
              "      fill: #1967D2;\n",
              "      height: 32px;\n",
              "      padding: 0 0 0 0;\n",
              "      width: 32px;\n",
              "    }\n",
              "\n",
              "    .colab-df-convert:hover {\n",
              "      background-color: #E2EBFA;\n",
              "      box-shadow: 0px 1px 2px rgba(60, 64, 67, 0.3), 0px 1px 3px 1px rgba(60, 64, 67, 0.15);\n",
              "      fill: #174EA6;\n",
              "    }\n",
              "\n",
              "    .colab-df-buttons div {\n",
              "      margin-bottom: 4px;\n",
              "    }\n",
              "\n",
              "    [theme=dark] .colab-df-convert {\n",
              "      background-color: #3B4455;\n",
              "      fill: #D2E3FC;\n",
              "    }\n",
              "\n",
              "    [theme=dark] .colab-df-convert:hover {\n",
              "      background-color: #434B5C;\n",
              "      box-shadow: 0px 1px 3px 1px rgba(0, 0, 0, 0.15);\n",
              "      filter: drop-shadow(0px 1px 2px rgba(0, 0, 0, 0.3));\n",
              "      fill: #FFFFFF;\n",
              "    }\n",
              "  </style>\n",
              "\n",
              "    <script>\n",
              "      const buttonEl =\n",
              "        document.querySelector('#df-3910638d-4fdf-43ca-97eb-b7c39f1423e8 button.colab-df-convert');\n",
              "      buttonEl.style.display =\n",
              "        google.colab.kernel.accessAllowed ? 'block' : 'none';\n",
              "\n",
              "      async function convertToInteractive(key) {\n",
              "        const element = document.querySelector('#df-3910638d-4fdf-43ca-97eb-b7c39f1423e8');\n",
              "        const dataTable =\n",
              "          await google.colab.kernel.invokeFunction('convertToInteractive',\n",
              "                                                    [key], {});\n",
              "        if (!dataTable) return;\n",
              "\n",
              "        const docLinkHtml = 'Like what you see? Visit the ' +\n",
              "          '<a target=\"_blank\" href=https://colab.research.google.com/notebooks/data_table.ipynb>data table notebook</a>'\n",
              "          + ' to learn more about interactive tables.';\n",
              "        element.innerHTML = '';\n",
              "        dataTable['output_type'] = 'display_data';\n",
              "        await google.colab.output.renderOutput(dataTable, element);\n",
              "        const docLink = document.createElement('div');\n",
              "        docLink.innerHTML = docLinkHtml;\n",
              "        element.appendChild(docLink);\n",
              "      }\n",
              "    </script>\n",
              "  </div>\n",
              "\n",
              "\n",
              "<div id=\"df-acd1bcda-0b7b-477e-8a1a-55afcf668a94\">\n",
              "  <button class=\"colab-df-quickchart\" onclick=\"quickchart('df-acd1bcda-0b7b-477e-8a1a-55afcf668a94')\"\n",
              "            title=\"Suggest charts\"\n",
              "            style=\"display:none;\">\n",
              "\n",
              "<svg xmlns=\"http://www.w3.org/2000/svg\" height=\"24px\"viewBox=\"0 0 24 24\"\n",
              "     width=\"24px\">\n",
              "    <g>\n",
              "        <path d=\"M19 3H5c-1.1 0-2 .9-2 2v14c0 1.1.9 2 2 2h14c1.1 0 2-.9 2-2V5c0-1.1-.9-2-2-2zM9 17H7v-7h2v7zm4 0h-2V7h2v10zm4 0h-2v-4h2v4z\"/>\n",
              "    </g>\n",
              "</svg>\n",
              "  </button>\n",
              "\n",
              "<style>\n",
              "  .colab-df-quickchart {\n",
              "      --bg-color: #E8F0FE;\n",
              "      --fill-color: #1967D2;\n",
              "      --hover-bg-color: #E2EBFA;\n",
              "      --hover-fill-color: #174EA6;\n",
              "      --disabled-fill-color: #AAA;\n",
              "      --disabled-bg-color: #DDD;\n",
              "  }\n",
              "\n",
              "  [theme=dark] .colab-df-quickchart {\n",
              "      --bg-color: #3B4455;\n",
              "      --fill-color: #D2E3FC;\n",
              "      --hover-bg-color: #434B5C;\n",
              "      --hover-fill-color: #FFFFFF;\n",
              "      --disabled-bg-color: #3B4455;\n",
              "      --disabled-fill-color: #666;\n",
              "  }\n",
              "\n",
              "  .colab-df-quickchart {\n",
              "    background-color: var(--bg-color);\n",
              "    border: none;\n",
              "    border-radius: 50%;\n",
              "    cursor: pointer;\n",
              "    display: none;\n",
              "    fill: var(--fill-color);\n",
              "    height: 32px;\n",
              "    padding: 0;\n",
              "    width: 32px;\n",
              "  }\n",
              "\n",
              "  .colab-df-quickchart:hover {\n",
              "    background-color: var(--hover-bg-color);\n",
              "    box-shadow: 0 1px 2px rgba(60, 64, 67, 0.3), 0 1px 3px 1px rgba(60, 64, 67, 0.15);\n",
              "    fill: var(--button-hover-fill-color);\n",
              "  }\n",
              "\n",
              "  .colab-df-quickchart-complete:disabled,\n",
              "  .colab-df-quickchart-complete:disabled:hover {\n",
              "    background-color: var(--disabled-bg-color);\n",
              "    fill: var(--disabled-fill-color);\n",
              "    box-shadow: none;\n",
              "  }\n",
              "\n",
              "  .colab-df-spinner {\n",
              "    border: 2px solid var(--fill-color);\n",
              "    border-color: transparent;\n",
              "    border-bottom-color: var(--fill-color);\n",
              "    animation:\n",
              "      spin 1s steps(1) infinite;\n",
              "  }\n",
              "\n",
              "  @keyframes spin {\n",
              "    0% {\n",
              "      border-color: transparent;\n",
              "      border-bottom-color: var(--fill-color);\n",
              "      border-left-color: var(--fill-color);\n",
              "    }\n",
              "    20% {\n",
              "      border-color: transparent;\n",
              "      border-left-color: var(--fill-color);\n",
              "      border-top-color: var(--fill-color);\n",
              "    }\n",
              "    30% {\n",
              "      border-color: transparent;\n",
              "      border-left-color: var(--fill-color);\n",
              "      border-top-color: var(--fill-color);\n",
              "      border-right-color: var(--fill-color);\n",
              "    }\n",
              "    40% {\n",
              "      border-color: transparent;\n",
              "      border-right-color: var(--fill-color);\n",
              "      border-top-color: var(--fill-color);\n",
              "    }\n",
              "    60% {\n",
              "      border-color: transparent;\n",
              "      border-right-color: var(--fill-color);\n",
              "    }\n",
              "    80% {\n",
              "      border-color: transparent;\n",
              "      border-right-color: var(--fill-color);\n",
              "      border-bottom-color: var(--fill-color);\n",
              "    }\n",
              "    90% {\n",
              "      border-color: transparent;\n",
              "      border-bottom-color: var(--fill-color);\n",
              "    }\n",
              "  }\n",
              "</style>\n",
              "\n",
              "  <script>\n",
              "    async function quickchart(key) {\n",
              "      const quickchartButtonEl =\n",
              "        document.querySelector('#' + key + ' button');\n",
              "      quickchartButtonEl.disabled = true;  // To prevent multiple clicks.\n",
              "      quickchartButtonEl.classList.add('colab-df-spinner');\n",
              "      try {\n",
              "        const charts = await google.colab.kernel.invokeFunction(\n",
              "            'suggestCharts', [key], {});\n",
              "      } catch (error) {\n",
              "        console.error('Error during call to suggestCharts:', error);\n",
              "      }\n",
              "      quickchartButtonEl.classList.remove('colab-df-spinner');\n",
              "      quickchartButtonEl.classList.add('colab-df-quickchart-complete');\n",
              "    }\n",
              "    (() => {\n",
              "      let quickchartButtonEl =\n",
              "        document.querySelector('#df-acd1bcda-0b7b-477e-8a1a-55afcf668a94 button');\n",
              "      quickchartButtonEl.style.display =\n",
              "        google.colab.kernel.accessAllowed ? 'block' : 'none';\n",
              "    })();\n",
              "  </script>\n",
              "</div>\n",
              "    </div>\n",
              "  </div>\n"
            ]
          },
          "metadata": {},
          "execution_count": 23
        }
      ],
      "source": [
        "# Load data\n",
        "df_data = load_processed_data()\n",
        "df_data"
      ]
    },
    {
      "cell_type": "markdown",
      "metadata": {
        "id": "YhuDTT_IfX34"
      },
      "source": [
        "#### Perform train and test split"
      ]
    },
    {
      "cell_type": "code",
      "execution_count": 7,
      "metadata": {
        "colab": {
          "base_uri": "https://localhost:8080/"
        },
        "id": "FCApC3K_fX34",
        "outputId": "55a9808d-c4d5-468a-f6ba-dc72ebc8c60a"
      },
      "outputs": [
        {
          "output_type": "stream",
          "name": "stdout",
          "text": [
            "Minimum date: 2014-02-02 00:00:00\n",
            "Maximum date: 2016-07-31 00:00:00\n",
            "Length of the DataFrame: 795\n"
          ]
        }
      ],
      "source": [
        "# Check min and max date and length of dataframe\n",
        "give_dataframe_information(df_data)"
      ]
    },
    {
      "cell_type": "markdown",
      "metadata": {
        "id": "6bZegXaJfX35"
      },
      "source": [
        "The same as using PyCaret for Time-Series we want the testset to have length of 60. This means the trainset consists of 60 days."
      ]
    },
    {
      "cell_type": "code",
      "execution_count": 8,
      "metadata": {
        "id": "n9I8EJt7fX35"
      },
      "outputs": [],
      "source": [
        "# Go back 60 days\n",
        "split_date = df_data.index.max() - pd.DateOffset(days=60)"
      ]
    },
    {
      "cell_type": "code",
      "execution_count": 9,
      "metadata": {
        "id": "d986x27dfX36"
      },
      "outputs": [],
      "source": [
        "# Perform the test and train split\n",
        "df_train, df_test = train_and_test_split(df_data, split_date)"
      ]
    },
    {
      "cell_type": "markdown",
      "metadata": {
        "id": "R3b_unUFfX36"
      },
      "source": [
        "#### Create Experiment"
      ]
    },
    {
      "cell_type": "code",
      "execution_count": 10,
      "metadata": {
        "colab": {
          "base_uri": "https://localhost:8080/",
          "height": 770
        },
        "id": "MyesCFQDfX36",
        "outputId": "00fc141b-00ef-437c-d73e-2e4e162477e4"
      },
      "outputs": [
        {
          "output_type": "display_data",
          "data": {
            "text/plain": [
              "<pandas.io.formats.style.Styler at 0x79cc9111cb20>"
            ],
            "text/html": [
              "<style type=\"text/css\">\n",
              "#T_cca55_row8_col1, #T_cca55_row12_col1, #T_cca55_row14_col1 {\n",
              "  background-color: lightgreen;\n",
              "}\n",
              "</style>\n",
              "<table id=\"T_cca55\" class=\"dataframe\">\n",
              "  <thead>\n",
              "    <tr>\n",
              "      <th class=\"blank level0\" >&nbsp;</th>\n",
              "      <th id=\"T_cca55_level0_col0\" class=\"col_heading level0 col0\" >Description</th>\n",
              "      <th id=\"T_cca55_level0_col1\" class=\"col_heading level0 col1\" >Value</th>\n",
              "    </tr>\n",
              "  </thead>\n",
              "  <tbody>\n",
              "    <tr>\n",
              "      <th id=\"T_cca55_level0_row0\" class=\"row_heading level0 row0\" >0</th>\n",
              "      <td id=\"T_cca55_row0_col0\" class=\"data row0 col0\" >Session id</td>\n",
              "      <td id=\"T_cca55_row0_col1\" class=\"data row0 col1\" >42</td>\n",
              "    </tr>\n",
              "    <tr>\n",
              "      <th id=\"T_cca55_level0_row1\" class=\"row_heading level0 row1\" >1</th>\n",
              "      <td id=\"T_cca55_row1_col0\" class=\"data row1 col0\" >Target</td>\n",
              "      <td id=\"T_cca55_row1_col1\" class=\"data row1 col1\" >Sales_Qty</td>\n",
              "    </tr>\n",
              "    <tr>\n",
              "      <th id=\"T_cca55_level0_row2\" class=\"row_heading level0 row2\" >2</th>\n",
              "      <td id=\"T_cca55_row2_col0\" class=\"data row2 col0\" >Target type</td>\n",
              "      <td id=\"T_cca55_row2_col1\" class=\"data row2 col1\" >Regression</td>\n",
              "    </tr>\n",
              "    <tr>\n",
              "      <th id=\"T_cca55_level0_row3\" class=\"row_heading level0 row3\" >3</th>\n",
              "      <td id=\"T_cca55_row3_col0\" class=\"data row3 col0\" >Original data shape</td>\n",
              "      <td id=\"T_cca55_row3_col1\" class=\"data row3 col1\" >(795, 8)</td>\n",
              "    </tr>\n",
              "    <tr>\n",
              "      <th id=\"T_cca55_level0_row4\" class=\"row_heading level0 row4\" >4</th>\n",
              "      <td id=\"T_cca55_row4_col0\" class=\"data row4 col0\" >Transformed data shape</td>\n",
              "      <td id=\"T_cca55_row4_col1\" class=\"data row4 col1\" >(795, 8)</td>\n",
              "    </tr>\n",
              "    <tr>\n",
              "      <th id=\"T_cca55_level0_row5\" class=\"row_heading level0 row5\" >5</th>\n",
              "      <td id=\"T_cca55_row5_col0\" class=\"data row5 col0\" >Transformed train set shape</td>\n",
              "      <td id=\"T_cca55_row5_col1\" class=\"data row5 col1\" >(735, 8)</td>\n",
              "    </tr>\n",
              "    <tr>\n",
              "      <th id=\"T_cca55_level0_row6\" class=\"row_heading level0 row6\" >6</th>\n",
              "      <td id=\"T_cca55_row6_col0\" class=\"data row6 col0\" >Transformed test set shape</td>\n",
              "      <td id=\"T_cca55_row6_col1\" class=\"data row6 col1\" >(60, 8)</td>\n",
              "    </tr>\n",
              "    <tr>\n",
              "      <th id=\"T_cca55_level0_row7\" class=\"row_heading level0 row7\" >7</th>\n",
              "      <td id=\"T_cca55_row7_col0\" class=\"data row7 col0\" >Numeric features</td>\n",
              "      <td id=\"T_cca55_row7_col1\" class=\"data row7 col1\" >7</td>\n",
              "    </tr>\n",
              "    <tr>\n",
              "      <th id=\"T_cca55_level0_row8\" class=\"row_heading level0 row8\" >8</th>\n",
              "      <td id=\"T_cca55_row8_col0\" class=\"data row8 col0\" >Preprocess</td>\n",
              "      <td id=\"T_cca55_row8_col1\" class=\"data row8 col1\" >True</td>\n",
              "    </tr>\n",
              "    <tr>\n",
              "      <th id=\"T_cca55_level0_row9\" class=\"row_heading level0 row9\" >9</th>\n",
              "      <td id=\"T_cca55_row9_col0\" class=\"data row9 col0\" >Imputation type</td>\n",
              "      <td id=\"T_cca55_row9_col1\" class=\"data row9 col1\" >simple</td>\n",
              "    </tr>\n",
              "    <tr>\n",
              "      <th id=\"T_cca55_level0_row10\" class=\"row_heading level0 row10\" >10</th>\n",
              "      <td id=\"T_cca55_row10_col0\" class=\"data row10 col0\" >Numeric imputation</td>\n",
              "      <td id=\"T_cca55_row10_col1\" class=\"data row10 col1\" >mean</td>\n",
              "    </tr>\n",
              "    <tr>\n",
              "      <th id=\"T_cca55_level0_row11\" class=\"row_heading level0 row11\" >11</th>\n",
              "      <td id=\"T_cca55_row11_col0\" class=\"data row11 col0\" >Categorical imputation</td>\n",
              "      <td id=\"T_cca55_row11_col1\" class=\"data row11 col1\" >mode</td>\n",
              "    </tr>\n",
              "    <tr>\n",
              "      <th id=\"T_cca55_level0_row12\" class=\"row_heading level0 row12\" >12</th>\n",
              "      <td id=\"T_cca55_row12_col0\" class=\"data row12 col0\" >Transformation</td>\n",
              "      <td id=\"T_cca55_row12_col1\" class=\"data row12 col1\" >True</td>\n",
              "    </tr>\n",
              "    <tr>\n",
              "      <th id=\"T_cca55_level0_row13\" class=\"row_heading level0 row13\" >13</th>\n",
              "      <td id=\"T_cca55_row13_col0\" class=\"data row13 col0\" >Transformation method</td>\n",
              "      <td id=\"T_cca55_row13_col1\" class=\"data row13 col1\" >yeo-johnson</td>\n",
              "    </tr>\n",
              "    <tr>\n",
              "      <th id=\"T_cca55_level0_row14\" class=\"row_heading level0 row14\" >14</th>\n",
              "      <td id=\"T_cca55_row14_col0\" class=\"data row14 col0\" >Transform target</td>\n",
              "      <td id=\"T_cca55_row14_col1\" class=\"data row14 col1\" >True</td>\n",
              "    </tr>\n",
              "    <tr>\n",
              "      <th id=\"T_cca55_level0_row15\" class=\"row_heading level0 row15\" >15</th>\n",
              "      <td id=\"T_cca55_row15_col0\" class=\"data row15 col0\" >Transform target method</td>\n",
              "      <td id=\"T_cca55_row15_col1\" class=\"data row15 col1\" >yeo-johnson</td>\n",
              "    </tr>\n",
              "    <tr>\n",
              "      <th id=\"T_cca55_level0_row16\" class=\"row_heading level0 row16\" >16</th>\n",
              "      <td id=\"T_cca55_row16_col0\" class=\"data row16 col0\" >Fold Generator</td>\n",
              "      <td id=\"T_cca55_row16_col1\" class=\"data row16 col1\" >TimeSeriesSplit</td>\n",
              "    </tr>\n",
              "    <tr>\n",
              "      <th id=\"T_cca55_level0_row17\" class=\"row_heading level0 row17\" >17</th>\n",
              "      <td id=\"T_cca55_row17_col0\" class=\"data row17 col0\" >Fold Number</td>\n",
              "      <td id=\"T_cca55_row17_col1\" class=\"data row17 col1\" >5</td>\n",
              "    </tr>\n",
              "    <tr>\n",
              "      <th id=\"T_cca55_level0_row18\" class=\"row_heading level0 row18\" >18</th>\n",
              "      <td id=\"T_cca55_row18_col0\" class=\"data row18 col0\" >CPU Jobs</td>\n",
              "      <td id=\"T_cca55_row18_col1\" class=\"data row18 col1\" >-1</td>\n",
              "    </tr>\n",
              "    <tr>\n",
              "      <th id=\"T_cca55_level0_row19\" class=\"row_heading level0 row19\" >19</th>\n",
              "      <td id=\"T_cca55_row19_col0\" class=\"data row19 col0\" >Use GPU</td>\n",
              "      <td id=\"T_cca55_row19_col1\" class=\"data row19 col1\" >False</td>\n",
              "    </tr>\n",
              "    <tr>\n",
              "      <th id=\"T_cca55_level0_row20\" class=\"row_heading level0 row20\" >20</th>\n",
              "      <td id=\"T_cca55_row20_col0\" class=\"data row20 col0\" >Log Experiment</td>\n",
              "      <td id=\"T_cca55_row20_col1\" class=\"data row20 col1\" >False</td>\n",
              "    </tr>\n",
              "    <tr>\n",
              "      <th id=\"T_cca55_level0_row21\" class=\"row_heading level0 row21\" >21</th>\n",
              "      <td id=\"T_cca55_row21_col0\" class=\"data row21 col0\" >Experiment Name</td>\n",
              "      <td id=\"T_cca55_row21_col1\" class=\"data row21 col1\" >reg-default-name</td>\n",
              "    </tr>\n",
              "    <tr>\n",
              "      <th id=\"T_cca55_level0_row22\" class=\"row_heading level0 row22\" >22</th>\n",
              "      <td id=\"T_cca55_row22_col0\" class=\"data row22 col0\" >USI</td>\n",
              "      <td id=\"T_cca55_row22_col1\" class=\"data row22 col1\" >3d6d</td>\n",
              "    </tr>\n",
              "  </tbody>\n",
              "</table>\n"
            ]
          },
          "metadata": {}
        }
      ],
      "source": [
        "# Setup for regression experiment\n",
        "reg = setup(data = df_train,\n",
        "            test_data = df_test,\n",
        "            target = 'Sales_Qty',\n",
        "            numeric_features = ['Year','Quarter','Month','Day_of_Week','lag_1_day','lag_7_days','lag_30_days'],\n",
        "            transformation = True,\n",
        "            transform_target = True,\n",
        "            fold_strategy = \"timeseries\",\n",
        "            fold = 5,\n",
        "            session_id = 42,\n",
        "            data_split_shuffle = False,\n",
        "            fold_shuffle = False\n",
        "            )"
      ]
    },
    {
      "cell_type": "markdown",
      "metadata": {
        "id": "pkRcnekifX37"
      },
      "source": [
        "#### Compare the models based on RMSE and other obtained metrics"
      ]
    },
    {
      "cell_type": "code",
      "execution_count": 11,
      "metadata": {
        "colab": {
          "base_uri": "https://localhost:8080/",
          "height": 702,
          "referenced_widgets": [
            "144d2411bb824a86a4fb7b79e70b602b",
            "94e8c924b1d048c8b7b22a24ad08e917",
            "db5c90eab2d34b3da8c2b2a054c3734d",
            "e48a245ec2444b67a2a1cda418ba770e",
            "62ec0d470ff34c349d7a9ad09927f45b",
            "607bf9579da24a4ea07fb5711ef6d78c",
            "8b3ad8ffd0ba49459b72c8dc05cdafa2",
            "d7f1df1cc99d44d5b19f9ad75dcdef8f",
            "143d2dc000eb4429a3caa0f9701e1398",
            "9fd1ef6c46ab4e3e916ce86574bf05f4",
            "5a888a6c43aa46ee8d84a9417eeccd66"
          ]
        },
        "id": "2sY2ZhXAfX37",
        "outputId": "be364e5f-d891-47f6-e2ed-b9f727f0512a"
      },
      "outputs": [
        {
          "output_type": "display_data",
          "data": {
            "text/plain": [
              "<IPython.core.display.HTML object>"
            ],
            "text/html": []
          },
          "metadata": {}
        },
        {
          "output_type": "display_data",
          "data": {
            "text/plain": [
              "<pandas.io.formats.style.Styler at 0x79cc9249f460>"
            ],
            "text/html": [
              "<style type=\"text/css\">\n",
              "#T_4bb7d th {\n",
              "  text-align: left;\n",
              "}\n",
              "#T_4bb7d_row0_col0, #T_4bb7d_row0_col4, #T_4bb7d_row0_col6, #T_4bb7d_row1_col0, #T_4bb7d_row1_col1, #T_4bb7d_row1_col2, #T_4bb7d_row1_col3, #T_4bb7d_row1_col5, #T_4bb7d_row1_col6, #T_4bb7d_row2_col0, #T_4bb7d_row2_col1, #T_4bb7d_row2_col2, #T_4bb7d_row2_col3, #T_4bb7d_row2_col4, #T_4bb7d_row2_col5, #T_4bb7d_row2_col6, #T_4bb7d_row3_col0, #T_4bb7d_row3_col1, #T_4bb7d_row3_col2, #T_4bb7d_row3_col3, #T_4bb7d_row3_col4, #T_4bb7d_row3_col5, #T_4bb7d_row3_col6, #T_4bb7d_row4_col0, #T_4bb7d_row4_col1, #T_4bb7d_row4_col2, #T_4bb7d_row4_col3, #T_4bb7d_row4_col4, #T_4bb7d_row4_col5, #T_4bb7d_row4_col6, #T_4bb7d_row5_col0, #T_4bb7d_row5_col1, #T_4bb7d_row5_col2, #T_4bb7d_row5_col3, #T_4bb7d_row5_col4, #T_4bb7d_row5_col5, #T_4bb7d_row5_col6, #T_4bb7d_row6_col0, #T_4bb7d_row6_col1, #T_4bb7d_row6_col2, #T_4bb7d_row6_col3, #T_4bb7d_row6_col4, #T_4bb7d_row6_col5, #T_4bb7d_row6_col6, #T_4bb7d_row7_col0, #T_4bb7d_row7_col1, #T_4bb7d_row7_col2, #T_4bb7d_row7_col3, #T_4bb7d_row7_col4, #T_4bb7d_row7_col5, #T_4bb7d_row7_col6, #T_4bb7d_row8_col0, #T_4bb7d_row8_col1, #T_4bb7d_row8_col2, #T_4bb7d_row8_col3, #T_4bb7d_row8_col4, #T_4bb7d_row8_col5, #T_4bb7d_row8_col6, #T_4bb7d_row9_col0, #T_4bb7d_row9_col1, #T_4bb7d_row9_col2, #T_4bb7d_row9_col3, #T_4bb7d_row9_col4, #T_4bb7d_row9_col5, #T_4bb7d_row9_col6, #T_4bb7d_row10_col0, #T_4bb7d_row10_col1, #T_4bb7d_row10_col2, #T_4bb7d_row10_col3, #T_4bb7d_row10_col4, #T_4bb7d_row10_col5, #T_4bb7d_row10_col6, #T_4bb7d_row11_col0, #T_4bb7d_row11_col1, #T_4bb7d_row11_col2, #T_4bb7d_row11_col3, #T_4bb7d_row11_col4, #T_4bb7d_row11_col5, #T_4bb7d_row11_col6, #T_4bb7d_row12_col0, #T_4bb7d_row12_col1, #T_4bb7d_row12_col2, #T_4bb7d_row12_col3, #T_4bb7d_row12_col4, #T_4bb7d_row12_col5, #T_4bb7d_row12_col6, #T_4bb7d_row13_col0, #T_4bb7d_row13_col1, #T_4bb7d_row13_col2, #T_4bb7d_row13_col3, #T_4bb7d_row13_col4, #T_4bb7d_row13_col5, #T_4bb7d_row14_col0, #T_4bb7d_row14_col1, #T_4bb7d_row14_col2, #T_4bb7d_row14_col3, #T_4bb7d_row14_col4, #T_4bb7d_row14_col5, #T_4bb7d_row14_col6, #T_4bb7d_row15_col0, #T_4bb7d_row15_col1, #T_4bb7d_row15_col2, #T_4bb7d_row15_col3, #T_4bb7d_row15_col4, #T_4bb7d_row15_col5, #T_4bb7d_row15_col6, #T_4bb7d_row16_col0, #T_4bb7d_row16_col1, #T_4bb7d_row16_col2, #T_4bb7d_row16_col3, #T_4bb7d_row16_col4, #T_4bb7d_row16_col5, #T_4bb7d_row16_col6, #T_4bb7d_row17_col0, #T_4bb7d_row17_col1, #T_4bb7d_row17_col2, #T_4bb7d_row17_col3, #T_4bb7d_row17_col4, #T_4bb7d_row17_col5, #T_4bb7d_row17_col6, #T_4bb7d_row18_col0, #T_4bb7d_row18_col1, #T_4bb7d_row18_col2, #T_4bb7d_row18_col3, #T_4bb7d_row18_col4, #T_4bb7d_row18_col5, #T_4bb7d_row18_col6 {\n",
              "  text-align: left;\n",
              "}\n",
              "#T_4bb7d_row0_col1, #T_4bb7d_row0_col2, #T_4bb7d_row0_col3, #T_4bb7d_row0_col5, #T_4bb7d_row1_col4, #T_4bb7d_row13_col6 {\n",
              "  text-align: left;\n",
              "  background-color: yellow;\n",
              "}\n",
              "#T_4bb7d_row0_col7, #T_4bb7d_row1_col7, #T_4bb7d_row2_col7, #T_4bb7d_row3_col7, #T_4bb7d_row4_col7, #T_4bb7d_row5_col7, #T_4bb7d_row7_col7, #T_4bb7d_row9_col7, #T_4bb7d_row10_col7, #T_4bb7d_row11_col7, #T_4bb7d_row12_col7, #T_4bb7d_row13_col7, #T_4bb7d_row14_col7, #T_4bb7d_row15_col7, #T_4bb7d_row16_col7, #T_4bb7d_row17_col7, #T_4bb7d_row18_col7 {\n",
              "  text-align: left;\n",
              "  background-color: lightgrey;\n",
              "}\n",
              "#T_4bb7d_row6_col7, #T_4bb7d_row8_col7 {\n",
              "  text-align: left;\n",
              "  background-color: yellow;\n",
              "  background-color: lightgrey;\n",
              "}\n",
              "</style>\n",
              "<table id=\"T_4bb7d\" class=\"dataframe\">\n",
              "  <thead>\n",
              "    <tr>\n",
              "      <th class=\"blank level0\" >&nbsp;</th>\n",
              "      <th id=\"T_4bb7d_level0_col0\" class=\"col_heading level0 col0\" >Model</th>\n",
              "      <th id=\"T_4bb7d_level0_col1\" class=\"col_heading level0 col1\" >MAE</th>\n",
              "      <th id=\"T_4bb7d_level0_col2\" class=\"col_heading level0 col2\" >MSE</th>\n",
              "      <th id=\"T_4bb7d_level0_col3\" class=\"col_heading level0 col3\" >RMSE</th>\n",
              "      <th id=\"T_4bb7d_level0_col4\" class=\"col_heading level0 col4\" >R2</th>\n",
              "      <th id=\"T_4bb7d_level0_col5\" class=\"col_heading level0 col5\" >RMSLE</th>\n",
              "      <th id=\"T_4bb7d_level0_col6\" class=\"col_heading level0 col6\" >MAPE</th>\n",
              "      <th id=\"T_4bb7d_level0_col7\" class=\"col_heading level0 col7\" >TT (Sec)</th>\n",
              "    </tr>\n",
              "  </thead>\n",
              "  <tbody>\n",
              "    <tr>\n",
              "      <th id=\"T_4bb7d_level0_row0\" class=\"row_heading level0 row0\" >huber</th>\n",
              "      <td id=\"T_4bb7d_row0_col0\" class=\"data row0 col0\" >Huber Regressor</td>\n",
              "      <td id=\"T_4bb7d_row0_col1\" class=\"data row0 col1\" >37.1817</td>\n",
              "      <td id=\"T_4bb7d_row0_col2\" class=\"data row0 col2\" >3507.5350</td>\n",
              "      <td id=\"T_4bb7d_row0_col3\" class=\"data row0 col3\" >52.8647</td>\n",
              "      <td id=\"T_4bb7d_row0_col4\" class=\"data row0 col4\" >0.1606</td>\n",
              "      <td id=\"T_4bb7d_row0_col5\" class=\"data row0 col5\" >0.7411</td>\n",
              "      <td id=\"T_4bb7d_row0_col6\" class=\"data row0 col6\" >2.0001</td>\n",
              "      <td id=\"T_4bb7d_row0_col7\" class=\"data row0 col7\" >0.1100</td>\n",
              "    </tr>\n",
              "    <tr>\n",
              "      <th id=\"T_4bb7d_level0_row1\" class=\"row_heading level0 row1\" >lr</th>\n",
              "      <td id=\"T_4bb7d_row1_col0\" class=\"data row1 col0\" >Linear Regression</td>\n",
              "      <td id=\"T_4bb7d_row1_col1\" class=\"data row1 col1\" >44.1893</td>\n",
              "      <td id=\"T_4bb7d_row1_col2\" class=\"data row1 col2\" >3916.0900</td>\n",
              "      <td id=\"T_4bb7d_row1_col3\" class=\"data row1 col3\" >62.1000</td>\n",
              "      <td id=\"T_4bb7d_row1_col4\" class=\"data row1 col4\" >0.2497</td>\n",
              "      <td id=\"T_4bb7d_row1_col5\" class=\"data row1 col5\" >0.8958</td>\n",
              "      <td id=\"T_4bb7d_row1_col6\" class=\"data row1 col6\" >2.4262</td>\n",
              "      <td id=\"T_4bb7d_row1_col7\" class=\"data row1 col7\" >1.2460</td>\n",
              "    </tr>\n",
              "    <tr>\n",
              "      <th id=\"T_4bb7d_level0_row2\" class=\"row_heading level0 row2\" >br</th>\n",
              "      <td id=\"T_4bb7d_row2_col0\" class=\"data row2 col0\" >Bayesian Ridge</td>\n",
              "      <td id=\"T_4bb7d_row2_col1\" class=\"data row2 col1\" >44.5445</td>\n",
              "      <td id=\"T_4bb7d_row2_col2\" class=\"data row2 col2\" >4028.8959</td>\n",
              "      <td id=\"T_4bb7d_row2_col3\" class=\"data row2 col3\" >62.9845</td>\n",
              "      <td id=\"T_4bb7d_row2_col4\" class=\"data row2 col4\" >0.2290</td>\n",
              "      <td id=\"T_4bb7d_row2_col5\" class=\"data row2 col5\" >0.9012</td>\n",
              "      <td id=\"T_4bb7d_row2_col6\" class=\"data row2 col6\" >2.4397</td>\n",
              "      <td id=\"T_4bb7d_row2_col7\" class=\"data row2 col7\" >0.0560</td>\n",
              "    </tr>\n",
              "    <tr>\n",
              "      <th id=\"T_4bb7d_level0_row3\" class=\"row_heading level0 row3\" >ridge</th>\n",
              "      <td id=\"T_4bb7d_row3_col0\" class=\"data row3 col0\" >Ridge Regression</td>\n",
              "      <td id=\"T_4bb7d_row3_col1\" class=\"data row3 col1\" >44.6677</td>\n",
              "      <td id=\"T_4bb7d_row3_col2\" class=\"data row3 col2\" >4056.0029</td>\n",
              "      <td id=\"T_4bb7d_row3_col3\" class=\"data row3 col3\" >63.1922</td>\n",
              "      <td id=\"T_4bb7d_row3_col4\" class=\"data row3 col4\" >0.2241</td>\n",
              "      <td id=\"T_4bb7d_row3_col5\" class=\"data row3 col5\" >0.8958</td>\n",
              "      <td id=\"T_4bb7d_row3_col6\" class=\"data row3 col6\" >2.3461</td>\n",
              "      <td id=\"T_4bb7d_row3_col7\" class=\"data row3 col7\" >0.0580</td>\n",
              "    </tr>\n",
              "    <tr>\n",
              "      <th id=\"T_4bb7d_level0_row4\" class=\"row_heading level0 row4\" >et</th>\n",
              "      <td id=\"T_4bb7d_row4_col0\" class=\"data row4 col0\" >Extra Trees Regressor</td>\n",
              "      <td id=\"T_4bb7d_row4_col1\" class=\"data row4 col1\" >44.8608</td>\n",
              "      <td id=\"T_4bb7d_row4_col2\" class=\"data row4 col2\" >4140.7554</td>\n",
              "      <td id=\"T_4bb7d_row4_col3\" class=\"data row4 col3\" >63.2082</td>\n",
              "      <td id=\"T_4bb7d_row4_col4\" class=\"data row4 col4\" >0.2237</td>\n",
              "      <td id=\"T_4bb7d_row4_col5\" class=\"data row4 col5\" >0.9192</td>\n",
              "      <td id=\"T_4bb7d_row4_col6\" class=\"data row4 col6\" >2.5136</td>\n",
              "      <td id=\"T_4bb7d_row4_col7\" class=\"data row4 col7\" >0.2080</td>\n",
              "    </tr>\n",
              "    <tr>\n",
              "      <th id=\"T_4bb7d_level0_row5\" class=\"row_heading level0 row5\" >en</th>\n",
              "      <td id=\"T_4bb7d_row5_col0\" class=\"data row5 col0\" >Elastic Net</td>\n",
              "      <td id=\"T_4bb7d_row5_col1\" class=\"data row5 col1\" >43.9712</td>\n",
              "      <td id=\"T_4bb7d_row5_col2\" class=\"data row5 col2\" >4087.0765</td>\n",
              "      <td id=\"T_4bb7d_row5_col3\" class=\"data row5 col3\" >63.4816</td>\n",
              "      <td id=\"T_4bb7d_row5_col4\" class=\"data row5 col4\" >0.2174</td>\n",
              "      <td id=\"T_4bb7d_row5_col5\" class=\"data row5 col5\" >0.8857</td>\n",
              "      <td id=\"T_4bb7d_row5_col6\" class=\"data row5 col6\" >2.2644</td>\n",
              "      <td id=\"T_4bb7d_row5_col7\" class=\"data row5 col7\" >0.0540</td>\n",
              "    </tr>\n",
              "    <tr>\n",
              "      <th id=\"T_4bb7d_level0_row6\" class=\"row_heading level0 row6\" >omp</th>\n",
              "      <td id=\"T_4bb7d_row6_col0\" class=\"data row6 col0\" >Orthogonal Matching Pursuit</td>\n",
              "      <td id=\"T_4bb7d_row6_col1\" class=\"data row6 col1\" >43.9592</td>\n",
              "      <td id=\"T_4bb7d_row6_col2\" class=\"data row6 col2\" >4092.4521</td>\n",
              "      <td id=\"T_4bb7d_row6_col3\" class=\"data row6 col3\" >63.5388</td>\n",
              "      <td id=\"T_4bb7d_row6_col4\" class=\"data row6 col4\" >0.2143</td>\n",
              "      <td id=\"T_4bb7d_row6_col5\" class=\"data row6 col5\" >0.8745</td>\n",
              "      <td id=\"T_4bb7d_row6_col6\" class=\"data row6 col6\" >2.1174</td>\n",
              "      <td id=\"T_4bb7d_row6_col7\" class=\"data row6 col7\" >0.0520</td>\n",
              "    </tr>\n",
              "    <tr>\n",
              "      <th id=\"T_4bb7d_level0_row7\" class=\"row_heading level0 row7\" >lasso</th>\n",
              "      <td id=\"T_4bb7d_row7_col0\" class=\"data row7 col0\" >Lasso Regression</td>\n",
              "      <td id=\"T_4bb7d_row7_col1\" class=\"data row7 col1\" >44.1629</td>\n",
              "      <td id=\"T_4bb7d_row7_col2\" class=\"data row7 col2\" >4152.5330</td>\n",
              "      <td id=\"T_4bb7d_row7_col3\" class=\"data row7 col3\" >64.0135</td>\n",
              "      <td id=\"T_4bb7d_row7_col4\" class=\"data row7 col4\" >0.2042</td>\n",
              "      <td id=\"T_4bb7d_row7_col5\" class=\"data row7 col5\" >0.8876</td>\n",
              "      <td id=\"T_4bb7d_row7_col6\" class=\"data row7 col6\" >2.2502</td>\n",
              "      <td id=\"T_4bb7d_row7_col7\" class=\"data row7 col7\" >0.0540</td>\n",
              "    </tr>\n",
              "    <tr>\n",
              "      <th id=\"T_4bb7d_level0_row8\" class=\"row_heading level0 row8\" >llar</th>\n",
              "      <td id=\"T_4bb7d_row8_col0\" class=\"data row8 col0\" >Lasso Least Angle Regression</td>\n",
              "      <td id=\"T_4bb7d_row8_col1\" class=\"data row8 col1\" >44.1629</td>\n",
              "      <td id=\"T_4bb7d_row8_col2\" class=\"data row8 col2\" >4152.5331</td>\n",
              "      <td id=\"T_4bb7d_row8_col3\" class=\"data row8 col3\" >64.0135</td>\n",
              "      <td id=\"T_4bb7d_row8_col4\" class=\"data row8 col4\" >0.2042</td>\n",
              "      <td id=\"T_4bb7d_row8_col5\" class=\"data row8 col5\" >0.8876</td>\n",
              "      <td id=\"T_4bb7d_row8_col6\" class=\"data row8 col6\" >2.2502</td>\n",
              "      <td id=\"T_4bb7d_row8_col7\" class=\"data row8 col7\" >0.0520</td>\n",
              "    </tr>\n",
              "    <tr>\n",
              "      <th id=\"T_4bb7d_level0_row9\" class=\"row_heading level0 row9\" >ada</th>\n",
              "      <td id=\"T_4bb7d_row9_col0\" class=\"data row9 col0\" >AdaBoost Regressor</td>\n",
              "      <td id=\"T_4bb7d_row9_col1\" class=\"data row9 col1\" >46.0729</td>\n",
              "      <td id=\"T_4bb7d_row9_col2\" class=\"data row9 col2\" >4313.6907</td>\n",
              "      <td id=\"T_4bb7d_row9_col3\" class=\"data row9 col3\" >64.8927</td>\n",
              "      <td id=\"T_4bb7d_row9_col4\" class=\"data row9 col4\" >0.1863</td>\n",
              "      <td id=\"T_4bb7d_row9_col5\" class=\"data row9 col5\" >0.9544</td>\n",
              "      <td id=\"T_4bb7d_row9_col6\" class=\"data row9 col6\" >2.7318</td>\n",
              "      <td id=\"T_4bb7d_row9_col7\" class=\"data row9 col7\" >0.1260</td>\n",
              "    </tr>\n",
              "    <tr>\n",
              "      <th id=\"T_4bb7d_level0_row10\" class=\"row_heading level0 row10\" >gbr</th>\n",
              "      <td id=\"T_4bb7d_row10_col0\" class=\"data row10 col0\" >Gradient Boosting Regressor</td>\n",
              "      <td id=\"T_4bb7d_row10_col1\" class=\"data row10 col1\" >45.6381</td>\n",
              "      <td id=\"T_4bb7d_row10_col2\" class=\"data row10 col2\" >4418.1988</td>\n",
              "      <td id=\"T_4bb7d_row10_col3\" class=\"data row10 col3\" >65.4850</td>\n",
              "      <td id=\"T_4bb7d_row10_col4\" class=\"data row10 col4\" >0.1733</td>\n",
              "      <td id=\"T_4bb7d_row10_col5\" class=\"data row10 col5\" >0.9334</td>\n",
              "      <td id=\"T_4bb7d_row10_col6\" class=\"data row10 col6\" >2.4302</td>\n",
              "      <td id=\"T_4bb7d_row10_col7\" class=\"data row10 col7\" >0.1200</td>\n",
              "    </tr>\n",
              "    <tr>\n",
              "      <th id=\"T_4bb7d_level0_row11\" class=\"row_heading level0 row11\" >lightgbm</th>\n",
              "      <td id=\"T_4bb7d_row11_col0\" class=\"data row11 col0\" >Light Gradient Boosting Machine</td>\n",
              "      <td id=\"T_4bb7d_row11_col1\" class=\"data row11 col1\" >47.5852</td>\n",
              "      <td id=\"T_4bb7d_row11_col2\" class=\"data row11 col2\" >4412.2528</td>\n",
              "      <td id=\"T_4bb7d_row11_col3\" class=\"data row11 col3\" >65.6568</td>\n",
              "      <td id=\"T_4bb7d_row11_col4\" class=\"data row11 col4\" >0.1693</td>\n",
              "      <td id=\"T_4bb7d_row11_col5\" class=\"data row11 col5\" >0.9456</td>\n",
              "      <td id=\"T_4bb7d_row11_col6\" class=\"data row11 col6\" >2.7381</td>\n",
              "      <td id=\"T_4bb7d_row11_col7\" class=\"data row11 col7\" >0.5880</td>\n",
              "    </tr>\n",
              "    <tr>\n",
              "      <th id=\"T_4bb7d_level0_row12\" class=\"row_heading level0 row12\" >rf</th>\n",
              "      <td id=\"T_4bb7d_row12_col0\" class=\"data row12 col0\" >Random Forest Regressor</td>\n",
              "      <td id=\"T_4bb7d_row12_col1\" class=\"data row12 col1\" >46.2860</td>\n",
              "      <td id=\"T_4bb7d_row12_col2\" class=\"data row12 col2\" >4452.0784</td>\n",
              "      <td id=\"T_4bb7d_row12_col3\" class=\"data row12 col3\" >65.9771</td>\n",
              "      <td id=\"T_4bb7d_row12_col4\" class=\"data row12 col4\" >0.1566</td>\n",
              "      <td id=\"T_4bb7d_row12_col5\" class=\"data row12 col5\" >0.9133</td>\n",
              "      <td id=\"T_4bb7d_row12_col6\" class=\"data row12 col6\" >2.5242</td>\n",
              "      <td id=\"T_4bb7d_row12_col7\" class=\"data row12 col7\" >0.4260</td>\n",
              "    </tr>\n",
              "    <tr>\n",
              "      <th id=\"T_4bb7d_level0_row13\" class=\"row_heading level0 row13\" >lar</th>\n",
              "      <td id=\"T_4bb7d_row13_col0\" class=\"data row13 col0\" >Least Angle Regression</td>\n",
              "      <td id=\"T_4bb7d_row13_col1\" class=\"data row13 col1\" >48.8393</td>\n",
              "      <td id=\"T_4bb7d_row13_col2\" class=\"data row13 col2\" >4824.2846</td>\n",
              "      <td id=\"T_4bb7d_row13_col3\" class=\"data row13 col3\" >68.1940</td>\n",
              "      <td id=\"T_4bb7d_row13_col4\" class=\"data row13 col4\" >0.0902</td>\n",
              "      <td id=\"T_4bb7d_row13_col5\" class=\"data row13 col5\" >1.0622</td>\n",
              "      <td id=\"T_4bb7d_row13_col6\" class=\"data row13 col6\" >1.9914</td>\n",
              "      <td id=\"T_4bb7d_row13_col7\" class=\"data row13 col7\" >0.0540</td>\n",
              "    </tr>\n",
              "    <tr>\n",
              "      <th id=\"T_4bb7d_level0_row14\" class=\"row_heading level0 row14\" >xgboost</th>\n",
              "      <td id=\"T_4bb7d_row14_col0\" class=\"data row14 col0\" >Extreme Gradient Boosting</td>\n",
              "      <td id=\"T_4bb7d_row14_col1\" class=\"data row14 col1\" >48.9970</td>\n",
              "      <td id=\"T_4bb7d_row14_col2\" class=\"data row14 col2\" >4790.7353</td>\n",
              "      <td id=\"T_4bb7d_row14_col3\" class=\"data row14 col3\" >68.4674</td>\n",
              "      <td id=\"T_4bb7d_row14_col4\" class=\"data row14 col4\" >0.0902</td>\n",
              "      <td id=\"T_4bb7d_row14_col5\" class=\"data row14 col5\" >0.9864</td>\n",
              "      <td id=\"T_4bb7d_row14_col6\" class=\"data row14 col6\" >2.5353</td>\n",
              "      <td id=\"T_4bb7d_row14_col7\" class=\"data row14 col7\" >0.1300</td>\n",
              "    </tr>\n",
              "    <tr>\n",
              "      <th id=\"T_4bb7d_level0_row15\" class=\"row_heading level0 row15\" >knn</th>\n",
              "      <td id=\"T_4bb7d_row15_col0\" class=\"data row15 col0\" >K Neighbors Regressor</td>\n",
              "      <td id=\"T_4bb7d_row15_col1\" class=\"data row15 col1\" >50.8063</td>\n",
              "      <td id=\"T_4bb7d_row15_col2\" class=\"data row15 col2\" >5276.2549</td>\n",
              "      <td id=\"T_4bb7d_row15_col3\" class=\"data row15 col3\" >72.2843</td>\n",
              "      <td id=\"T_4bb7d_row15_col4\" class=\"data row15 col4\" >-0.0583</td>\n",
              "      <td id=\"T_4bb7d_row15_col5\" class=\"data row15 col5\" >1.0221</td>\n",
              "      <td id=\"T_4bb7d_row15_col6\" class=\"data row15 col6\" >2.3401</td>\n",
              "      <td id=\"T_4bb7d_row15_col7\" class=\"data row15 col7\" >0.1040</td>\n",
              "    </tr>\n",
              "    <tr>\n",
              "      <th id=\"T_4bb7d_level0_row16\" class=\"row_heading level0 row16\" >dummy</th>\n",
              "      <td id=\"T_4bb7d_row16_col0\" class=\"data row16 col0\" >Dummy Regressor</td>\n",
              "      <td id=\"T_4bb7d_row16_col1\" class=\"data row16 col1\" >54.5353</td>\n",
              "      <td id=\"T_4bb7d_row16_col2\" class=\"data row16 col2\" >6200.0987</td>\n",
              "      <td id=\"T_4bb7d_row16_col3\" class=\"data row16 col3\" >78.0920</td>\n",
              "      <td id=\"T_4bb7d_row16_col4\" class=\"data row16 col4\" >-0.1794</td>\n",
              "      <td id=\"T_4bb7d_row16_col5\" class=\"data row16 col5\" >1.0774</td>\n",
              "      <td id=\"T_4bb7d_row16_col6\" class=\"data row16 col6\" >3.5975</td>\n",
              "      <td id=\"T_4bb7d_row16_col7\" class=\"data row16 col7\" >0.0800</td>\n",
              "    </tr>\n",
              "    <tr>\n",
              "      <th id=\"T_4bb7d_level0_row17\" class=\"row_heading level0 row17\" >dt</th>\n",
              "      <td id=\"T_4bb7d_row17_col0\" class=\"data row17 col0\" >Decision Tree Regressor</td>\n",
              "      <td id=\"T_4bb7d_row17_col1\" class=\"data row17 col1\" >60.5230</td>\n",
              "      <td id=\"T_4bb7d_row17_col2\" class=\"data row17 col2\" >7377.0279</td>\n",
              "      <td id=\"T_4bb7d_row17_col3\" class=\"data row17 col3\" >84.8476</td>\n",
              "      <td id=\"T_4bb7d_row17_col4\" class=\"data row17 col4\" >-0.3962</td>\n",
              "      <td id=\"T_4bb7d_row17_col5\" class=\"data row17 col5\" >1.2338</td>\n",
              "      <td id=\"T_4bb7d_row17_col6\" class=\"data row17 col6\" >3.8721</td>\n",
              "      <td id=\"T_4bb7d_row17_col7\" class=\"data row17 col7\" >0.0960</td>\n",
              "    </tr>\n",
              "    <tr>\n",
              "      <th id=\"T_4bb7d_level0_row18\" class=\"row_heading level0 row18\" >par</th>\n",
              "      <td id=\"T_4bb7d_row18_col0\" class=\"data row18 col0\" >Passive Aggressive Regressor</td>\n",
              "      <td id=\"T_4bb7d_row18_col1\" class=\"data row18 col1\" >66.7143</td>\n",
              "      <td id=\"T_4bb7d_row18_col2\" class=\"data row18 col2\" >7873.6448</td>\n",
              "      <td id=\"T_4bb7d_row18_col3\" class=\"data row18 col3\" >87.1076</td>\n",
              "      <td id=\"T_4bb7d_row18_col4\" class=\"data row18 col4\" >-0.6131</td>\n",
              "      <td id=\"T_4bb7d_row18_col5\" class=\"data row18 col5\" >1.1347</td>\n",
              "      <td id=\"T_4bb7d_row18_col6\" class=\"data row18 col6\" >4.1856</td>\n",
              "      <td id=\"T_4bb7d_row18_col7\" class=\"data row18 col7\" >0.0780</td>\n",
              "    </tr>\n",
              "  </tbody>\n",
              "</table>\n"
            ]
          },
          "metadata": {}
        },
        {
          "output_type": "display_data",
          "data": {
            "text/plain": [
              "Processing:   0%|          | 0/81 [00:00<?, ?it/s]"
            ],
            "application/vnd.jupyter.widget-view+json": {
              "version_major": 2,
              "version_minor": 0,
              "model_id": "144d2411bb824a86a4fb7b79e70b602b"
            }
          },
          "metadata": {
            "application/vnd.jupyter.widget-view+json": {
              "colab": {
                "custom_widget_manager": {
                  "url": "https://ssl.gstatic.com/colaboratory-static/widgets/colab-cdn-widget-manager/b3e629b1971e1542/manager.min.js"
                }
              }
            }
          }
        },
        {
          "output_type": "display_data",
          "data": {
            "text/plain": [
              "<IPython.core.display.HTML object>"
            ],
            "text/html": []
          },
          "metadata": {}
        },
        {
          "output_type": "execute_result",
          "data": {
            "text/plain": [
              "HuberRegressor()"
            ],
            "text/html": [
              "<style>#sk-container-id-1 {color: black;background-color: white;}#sk-container-id-1 pre{padding: 0;}#sk-container-id-1 div.sk-toggleable {background-color: white;}#sk-container-id-1 label.sk-toggleable__label {cursor: pointer;display: block;width: 100%;margin-bottom: 0;padding: 0.3em;box-sizing: border-box;text-align: center;}#sk-container-id-1 label.sk-toggleable__label-arrow:before {content: \"▸\";float: left;margin-right: 0.25em;color: #696969;}#sk-container-id-1 label.sk-toggleable__label-arrow:hover:before {color: black;}#sk-container-id-1 div.sk-estimator:hover label.sk-toggleable__label-arrow:before {color: black;}#sk-container-id-1 div.sk-toggleable__content {max-height: 0;max-width: 0;overflow: hidden;text-align: left;background-color: #f0f8ff;}#sk-container-id-1 div.sk-toggleable__content pre {margin: 0.2em;color: black;border-radius: 0.25em;background-color: #f0f8ff;}#sk-container-id-1 input.sk-toggleable__control:checked~div.sk-toggleable__content {max-height: 200px;max-width: 100%;overflow: auto;}#sk-container-id-1 input.sk-toggleable__control:checked~label.sk-toggleable__label-arrow:before {content: \"▾\";}#sk-container-id-1 div.sk-estimator input.sk-toggleable__control:checked~label.sk-toggleable__label {background-color: #d4ebff;}#sk-container-id-1 div.sk-label input.sk-toggleable__control:checked~label.sk-toggleable__label {background-color: #d4ebff;}#sk-container-id-1 input.sk-hidden--visually {border: 0;clip: rect(1px 1px 1px 1px);clip: rect(1px, 1px, 1px, 1px);height: 1px;margin: -1px;overflow: hidden;padding: 0;position: absolute;width: 1px;}#sk-container-id-1 div.sk-estimator {font-family: monospace;background-color: #f0f8ff;border: 1px dotted black;border-radius: 0.25em;box-sizing: border-box;margin-bottom: 0.5em;}#sk-container-id-1 div.sk-estimator:hover {background-color: #d4ebff;}#sk-container-id-1 div.sk-parallel-item::after {content: \"\";width: 100%;border-bottom: 1px solid gray;flex-grow: 1;}#sk-container-id-1 div.sk-label:hover label.sk-toggleable__label {background-color: #d4ebff;}#sk-container-id-1 div.sk-serial::before {content: \"\";position: absolute;border-left: 1px solid gray;box-sizing: border-box;top: 0;bottom: 0;left: 50%;z-index: 0;}#sk-container-id-1 div.sk-serial {display: flex;flex-direction: column;align-items: center;background-color: white;padding-right: 0.2em;padding-left: 0.2em;position: relative;}#sk-container-id-1 div.sk-item {position: relative;z-index: 1;}#sk-container-id-1 div.sk-parallel {display: flex;align-items: stretch;justify-content: center;background-color: white;position: relative;}#sk-container-id-1 div.sk-item::before, #sk-container-id-1 div.sk-parallel-item::before {content: \"\";position: absolute;border-left: 1px solid gray;box-sizing: border-box;top: 0;bottom: 0;left: 50%;z-index: -1;}#sk-container-id-1 div.sk-parallel-item {display: flex;flex-direction: column;z-index: 1;position: relative;background-color: white;}#sk-container-id-1 div.sk-parallel-item:first-child::after {align-self: flex-end;width: 50%;}#sk-container-id-1 div.sk-parallel-item:last-child::after {align-self: flex-start;width: 50%;}#sk-container-id-1 div.sk-parallel-item:only-child::after {width: 0;}#sk-container-id-1 div.sk-dashed-wrapped {border: 1px dashed gray;margin: 0 0.4em 0.5em 0.4em;box-sizing: border-box;padding-bottom: 0.4em;background-color: white;}#sk-container-id-1 div.sk-label label {font-family: monospace;font-weight: bold;display: inline-block;line-height: 1.2em;}#sk-container-id-1 div.sk-label-container {text-align: center;}#sk-container-id-1 div.sk-container {/* jupyter's `normalize.less` sets `[hidden] { display: none; }` but bootstrap.min.css set `[hidden] { display: none !important; }` so we also need the `!important` here to be able to override the default hidden behavior on the sphinx rendered scikit-learn.org. See: https://github.com/scikit-learn/scikit-learn/issues/21755 */display: inline-block !important;position: relative;}#sk-container-id-1 div.sk-text-repr-fallback {display: none;}</style><div id=\"sk-container-id-1\" class=\"sk-top-container\"><div class=\"sk-text-repr-fallback\"><pre>HuberRegressor()</pre><b>In a Jupyter environment, please rerun this cell to show the HTML representation or trust the notebook. <br />On GitHub, the HTML representation is unable to render, please try loading this page with nbviewer.org.</b></div><div class=\"sk-container\" hidden><div class=\"sk-item\"><div class=\"sk-estimator sk-toggleable\"><input class=\"sk-toggleable__control sk-hidden--visually\" id=\"sk-estimator-id-1\" type=\"checkbox\" checked><label for=\"sk-estimator-id-1\" class=\"sk-toggleable__label sk-toggleable__label-arrow\">HuberRegressor</label><div class=\"sk-toggleable__content\"><pre>HuberRegressor()</pre></div></div></div></div></div>"
            ]
          },
          "metadata": {},
          "execution_count": 11
        }
      ],
      "source": [
        "reg.compare_models(sort = 'RMSE')"
      ]
    },
    {
      "cell_type": "markdown",
      "metadata": {
        "id": "QQIV44ptfX37"
      },
      "source": [
        "#### Huber Regression"
      ]
    },
    {
      "cell_type": "code",
      "execution_count": 12,
      "metadata": {
        "colab": {
          "base_uri": "https://localhost:8080/",
          "height": 300,
          "referenced_widgets": [
            "377213c05e8b40c0b8ebfff00dcadc08",
            "4de34f1e53e3409e856e7c3f79e9e451",
            "cc5c07588acc459e8dc13ff367d8e107",
            "991e8a9711644b659dad04cae7442242",
            "d71f5f9c922145a4a3729862528b1d64",
            "0230d180f5974a36a2d34e6d10bf6b2a",
            "dc7869aed0934f398240982f0a7b7015",
            "4fa9a85dd84a43709f5c4daadd0bc3dd",
            "570932e4fb25470a9b0a085a7d4bf97f",
            "90f28b67a3f74378b774a3ddb88bff41",
            "7ab70c495ef741448febb6f3aa7b65bd"
          ]
        },
        "id": "9WQdXRxYfX37",
        "outputId": "aca65d13-e941-46ca-e15a-13dd6fff57b0"
      },
      "outputs": [
        {
          "output_type": "display_data",
          "data": {
            "text/plain": [
              "<IPython.core.display.HTML object>"
            ],
            "text/html": []
          },
          "metadata": {}
        },
        {
          "output_type": "display_data",
          "data": {
            "text/plain": [
              "<pandas.io.formats.style.Styler at 0x79cc90f82aa0>"
            ],
            "text/html": [
              "<style type=\"text/css\">\n",
              "#T_4ac8b_row5_col0, #T_4ac8b_row5_col1, #T_4ac8b_row5_col2, #T_4ac8b_row5_col3, #T_4ac8b_row5_col4, #T_4ac8b_row5_col5 {\n",
              "  background: yellow;\n",
              "}\n",
              "</style>\n",
              "<table id=\"T_4ac8b\" class=\"dataframe\">\n",
              "  <thead>\n",
              "    <tr>\n",
              "      <th class=\"blank level0\" >&nbsp;</th>\n",
              "      <th id=\"T_4ac8b_level0_col0\" class=\"col_heading level0 col0\" >MAE</th>\n",
              "      <th id=\"T_4ac8b_level0_col1\" class=\"col_heading level0 col1\" >MSE</th>\n",
              "      <th id=\"T_4ac8b_level0_col2\" class=\"col_heading level0 col2\" >RMSE</th>\n",
              "      <th id=\"T_4ac8b_level0_col3\" class=\"col_heading level0 col3\" >R2</th>\n",
              "      <th id=\"T_4ac8b_level0_col4\" class=\"col_heading level0 col4\" >RMSLE</th>\n",
              "      <th id=\"T_4ac8b_level0_col5\" class=\"col_heading level0 col5\" >MAPE</th>\n",
              "    </tr>\n",
              "    <tr>\n",
              "      <th class=\"index_name level0\" >Fold</th>\n",
              "      <th class=\"blank col0\" >&nbsp;</th>\n",
              "      <th class=\"blank col1\" >&nbsp;</th>\n",
              "      <th class=\"blank col2\" >&nbsp;</th>\n",
              "      <th class=\"blank col3\" >&nbsp;</th>\n",
              "      <th class=\"blank col4\" >&nbsp;</th>\n",
              "      <th class=\"blank col5\" >&nbsp;</th>\n",
              "    </tr>\n",
              "  </thead>\n",
              "  <tbody>\n",
              "    <tr>\n",
              "      <th id=\"T_4ac8b_level0_row0\" class=\"row_heading level0 row0\" >0</th>\n",
              "      <td id=\"T_4ac8b_row0_col0\" class=\"data row0 col0\" >38.8019</td>\n",
              "      <td id=\"T_4ac8b_row0_col1\" class=\"data row0 col1\" >4109.5916</td>\n",
              "      <td id=\"T_4ac8b_row0_col2\" class=\"data row0 col2\" >64.1061</td>\n",
              "      <td id=\"T_4ac8b_row0_col3\" class=\"data row0 col3\" >0.2835</td>\n",
              "      <td id=\"T_4ac8b_row0_col4\" class=\"data row0 col4\" >0.9894</td>\n",
              "      <td id=\"T_4ac8b_row0_col5\" class=\"data row0 col5\" >3.0341</td>\n",
              "    </tr>\n",
              "    <tr>\n",
              "      <th id=\"T_4ac8b_level0_row1\" class=\"row_heading level0 row1\" >1</th>\n",
              "      <td id=\"T_4ac8b_row1_col0\" class=\"data row1 col0\" >-0.0000</td>\n",
              "      <td id=\"T_4ac8b_row1_col1\" class=\"data row1 col1\" >-0.0000</td>\n",
              "      <td id=\"T_4ac8b_row1_col2\" class=\"data row1 col2\" >-0.0000</td>\n",
              "      <td id=\"T_4ac8b_row1_col3\" class=\"data row1 col3\" >0.0000</td>\n",
              "      <td id=\"T_4ac8b_row1_col4\" class=\"data row1 col4\" >-0.0000</td>\n",
              "      <td id=\"T_4ac8b_row1_col5\" class=\"data row1 col5\" >-0.0000</td>\n",
              "    </tr>\n",
              "    <tr>\n",
              "      <th id=\"T_4ac8b_level0_row2\" class=\"row_heading level0 row2\" >2</th>\n",
              "      <td id=\"T_4ac8b_row2_col0\" class=\"data row2 col0\" >53.6993</td>\n",
              "      <td id=\"T_4ac8b_row2_col1\" class=\"data row2 col1\" >4561.5116</td>\n",
              "      <td id=\"T_4ac8b_row2_col2\" class=\"data row2 col2\" >67.5390</td>\n",
              "      <td id=\"T_4ac8b_row2_col3\" class=\"data row2 col3\" >-0.0143</td>\n",
              "      <td id=\"T_4ac8b_row2_col4\" class=\"data row2 col4\" >1.1736</td>\n",
              "      <td id=\"T_4ac8b_row2_col5\" class=\"data row2 col5\" >3.5380</td>\n",
              "    </tr>\n",
              "    <tr>\n",
              "      <th id=\"T_4ac8b_level0_row3\" class=\"row_heading level0 row3\" >3</th>\n",
              "      <td id=\"T_4ac8b_row3_col0\" class=\"data row3 col0\" >50.7890</td>\n",
              "      <td id=\"T_4ac8b_row3_col1\" class=\"data row3 col1\" >5188.5394</td>\n",
              "      <td id=\"T_4ac8b_row3_col2\" class=\"data row3 col2\" >72.0315</td>\n",
              "      <td id=\"T_4ac8b_row3_col3\" class=\"data row3 col3\" >0.2501</td>\n",
              "      <td id=\"T_4ac8b_row3_col4\" class=\"data row3 col4\" >0.9440</td>\n",
              "      <td id=\"T_4ac8b_row3_col5\" class=\"data row3 col5\" >2.1489</td>\n",
              "    </tr>\n",
              "    <tr>\n",
              "      <th id=\"T_4ac8b_level0_row4\" class=\"row_heading level0 row4\" >4</th>\n",
              "      <td id=\"T_4ac8b_row4_col0\" class=\"data row4 col0\" >42.6186</td>\n",
              "      <td id=\"T_4ac8b_row4_col1\" class=\"data row4 col1\" >3678.0325</td>\n",
              "      <td id=\"T_4ac8b_row4_col2\" class=\"data row4 col2\" >60.6468</td>\n",
              "      <td id=\"T_4ac8b_row4_col3\" class=\"data row4 col3\" >0.2839</td>\n",
              "      <td id=\"T_4ac8b_row4_col4\" class=\"data row4 col4\" >0.5987</td>\n",
              "      <td id=\"T_4ac8b_row4_col5\" class=\"data row4 col5\" >1.2797</td>\n",
              "    </tr>\n",
              "    <tr>\n",
              "      <th id=\"T_4ac8b_level0_row5\" class=\"row_heading level0 row5\" >Mean</th>\n",
              "      <td id=\"T_4ac8b_row5_col0\" class=\"data row5 col0\" >37.1817</td>\n",
              "      <td id=\"T_4ac8b_row5_col1\" class=\"data row5 col1\" >3507.5350</td>\n",
              "      <td id=\"T_4ac8b_row5_col2\" class=\"data row5 col2\" >52.8647</td>\n",
              "      <td id=\"T_4ac8b_row5_col3\" class=\"data row5 col3\" >0.1606</td>\n",
              "      <td id=\"T_4ac8b_row5_col4\" class=\"data row5 col4\" >0.7411</td>\n",
              "      <td id=\"T_4ac8b_row5_col5\" class=\"data row5 col5\" >2.0001</td>\n",
              "    </tr>\n",
              "    <tr>\n",
              "      <th id=\"T_4ac8b_level0_row6\" class=\"row_heading level0 row6\" >Std</th>\n",
              "      <td id=\"T_4ac8b_row6_col0\" class=\"data row6 col0\" >19.3528</td>\n",
              "      <td id=\"T_4ac8b_row6_col1\" class=\"data row6 col1\" >1823.7865</td>\n",
              "      <td id=\"T_4ac8b_row6_col2\" class=\"data row6 col2\" >26.6995</td>\n",
              "      <td id=\"T_4ac8b_row6_col3\" class=\"data row6 col3\" >0.1376</td>\n",
              "      <td id=\"T_4ac8b_row6_col4\" class=\"data row6 col4\" >0.4146</td>\n",
              "      <td id=\"T_4ac8b_row6_col5\" class=\"data row6 col5\" >1.2630</td>\n",
              "    </tr>\n",
              "  </tbody>\n",
              "</table>\n"
            ]
          },
          "metadata": {}
        },
        {
          "output_type": "display_data",
          "data": {
            "text/plain": [
              "Processing:   0%|          | 0/4 [00:00<?, ?it/s]"
            ],
            "application/vnd.jupyter.widget-view+json": {
              "version_major": 2,
              "version_minor": 0,
              "model_id": "377213c05e8b40c0b8ebfff00dcadc08"
            }
          },
          "metadata": {
            "application/vnd.jupyter.widget-view+json": {
              "colab": {
                "custom_widget_manager": {
                  "url": "https://ssl.gstatic.com/colaboratory-static/widgets/colab-cdn-widget-manager/b3e629b1971e1542/manager.min.js"
                }
              }
            }
          }
        },
        {
          "output_type": "display_data",
          "data": {
            "text/plain": [
              "<IPython.core.display.HTML object>"
            ],
            "text/html": []
          },
          "metadata": {}
        }
      ],
      "source": [
        "# Create the huber regression model\n",
        "huber = reg.create_model(\"huber\")"
      ]
    },
    {
      "cell_type": "code",
      "execution_count": 13,
      "metadata": {
        "colab": {
          "base_uri": "https://localhost:8080/",
          "height": 335,
          "referenced_widgets": [
            "501b455d21bf45479992ebe5a00a4be3",
            "a49d06e8248d42f0acb55c6a89584236",
            "3094a042057343078e961e00426c776f",
            "9ba0273be24d40eaa3630b8ed7e16ab7",
            "0f5ee7d5f50b44c9998ef8a4f1ed5d08",
            "f214152758b3438bae3aef6666f46c22",
            "2b637bc4fa5546c887a2f0b818ee51fe",
            "17a3bdcd793e40c3890421ed13d93d7f",
            "6203a4657b69450981f0de8ec7c6cced",
            "ba94667e932042c09e929ec69e2819ac",
            "8bb4d73203544adfaa29de486e30bd08"
          ]
        },
        "id": "7RO4lwsYfX38",
        "outputId": "dfbb1481-8c31-4c0e-aecb-70aa6c5b4d93"
      },
      "outputs": [
        {
          "output_type": "display_data",
          "data": {
            "text/plain": [
              "<IPython.core.display.HTML object>"
            ],
            "text/html": []
          },
          "metadata": {}
        },
        {
          "output_type": "display_data",
          "data": {
            "text/plain": [
              "<pandas.io.formats.style.Styler at 0x79cc90d21540>"
            ],
            "text/html": [
              "<style type=\"text/css\">\n",
              "#T_efd50_row5_col0, #T_efd50_row5_col1, #T_efd50_row5_col2, #T_efd50_row5_col3, #T_efd50_row5_col4, #T_efd50_row5_col5 {\n",
              "  background: yellow;\n",
              "}\n",
              "</style>\n",
              "<table id=\"T_efd50\" class=\"dataframe\">\n",
              "  <thead>\n",
              "    <tr>\n",
              "      <th class=\"blank level0\" >&nbsp;</th>\n",
              "      <th id=\"T_efd50_level0_col0\" class=\"col_heading level0 col0\" >MAE</th>\n",
              "      <th id=\"T_efd50_level0_col1\" class=\"col_heading level0 col1\" >MSE</th>\n",
              "      <th id=\"T_efd50_level0_col2\" class=\"col_heading level0 col2\" >RMSE</th>\n",
              "      <th id=\"T_efd50_level0_col3\" class=\"col_heading level0 col3\" >R2</th>\n",
              "      <th id=\"T_efd50_level0_col4\" class=\"col_heading level0 col4\" >RMSLE</th>\n",
              "      <th id=\"T_efd50_level0_col5\" class=\"col_heading level0 col5\" >MAPE</th>\n",
              "    </tr>\n",
              "    <tr>\n",
              "      <th class=\"index_name level0\" >Fold</th>\n",
              "      <th class=\"blank col0\" >&nbsp;</th>\n",
              "      <th class=\"blank col1\" >&nbsp;</th>\n",
              "      <th class=\"blank col2\" >&nbsp;</th>\n",
              "      <th class=\"blank col3\" >&nbsp;</th>\n",
              "      <th class=\"blank col4\" >&nbsp;</th>\n",
              "      <th class=\"blank col5\" >&nbsp;</th>\n",
              "    </tr>\n",
              "  </thead>\n",
              "  <tbody>\n",
              "    <tr>\n",
              "      <th id=\"T_efd50_level0_row0\" class=\"row_heading level0 row0\" >0</th>\n",
              "      <td id=\"T_efd50_row0_col0\" class=\"data row0 col0\" >38.8030</td>\n",
              "      <td id=\"T_efd50_row0_col1\" class=\"data row0 col1\" >4124.4114</td>\n",
              "      <td id=\"T_efd50_row0_col2\" class=\"data row0 col2\" >64.2216</td>\n",
              "      <td id=\"T_efd50_row0_col3\" class=\"data row0 col3\" >0.2809</td>\n",
              "      <td id=\"T_efd50_row0_col4\" class=\"data row0 col4\" >0.9839</td>\n",
              "      <td id=\"T_efd50_row0_col5\" class=\"data row0 col5\" >2.9704</td>\n",
              "    </tr>\n",
              "    <tr>\n",
              "      <th id=\"T_efd50_level0_row1\" class=\"row_heading level0 row1\" >1</th>\n",
              "      <td id=\"T_efd50_row1_col0\" class=\"data row1 col0\" >-0.0000</td>\n",
              "      <td id=\"T_efd50_row1_col1\" class=\"data row1 col1\" >-0.0000</td>\n",
              "      <td id=\"T_efd50_row1_col2\" class=\"data row1 col2\" >-0.0000</td>\n",
              "      <td id=\"T_efd50_row1_col3\" class=\"data row1 col3\" >0.0000</td>\n",
              "      <td id=\"T_efd50_row1_col4\" class=\"data row1 col4\" >-0.0000</td>\n",
              "      <td id=\"T_efd50_row1_col5\" class=\"data row1 col5\" >-0.0000</td>\n",
              "    </tr>\n",
              "    <tr>\n",
              "      <th id=\"T_efd50_level0_row2\" class=\"row_heading level0 row2\" >2</th>\n",
              "      <td id=\"T_efd50_row2_col0\" class=\"data row2 col0\" >53.7534</td>\n",
              "      <td id=\"T_efd50_row2_col1\" class=\"data row2 col1\" >4565.2688</td>\n",
              "      <td id=\"T_efd50_row2_col2\" class=\"data row2 col2\" >67.5668</td>\n",
              "      <td id=\"T_efd50_row2_col3\" class=\"data row2 col3\" >-0.0151</td>\n",
              "      <td id=\"T_efd50_row2_col4\" class=\"data row2 col4\" >1.1743</td>\n",
              "      <td id=\"T_efd50_row2_col5\" class=\"data row2 col5\" >3.5364</td>\n",
              "    </tr>\n",
              "    <tr>\n",
              "      <th id=\"T_efd50_level0_row3\" class=\"row_heading level0 row3\" >3</th>\n",
              "      <td id=\"T_efd50_row3_col0\" class=\"data row3 col0\" >50.7843</td>\n",
              "      <td id=\"T_efd50_row3_col1\" class=\"data row3 col1\" >5190.3277</td>\n",
              "      <td id=\"T_efd50_row3_col2\" class=\"data row3 col2\" >72.0439</td>\n",
              "      <td id=\"T_efd50_row3_col3\" class=\"data row3 col3\" >0.2499</td>\n",
              "      <td id=\"T_efd50_row3_col4\" class=\"data row3 col4\" >0.9440</td>\n",
              "      <td id=\"T_efd50_row3_col5\" class=\"data row3 col5\" >2.1459</td>\n",
              "    </tr>\n",
              "    <tr>\n",
              "      <th id=\"T_efd50_level0_row4\" class=\"row_heading level0 row4\" >4</th>\n",
              "      <td id=\"T_efd50_row4_col0\" class=\"data row4 col0\" >42.5963</td>\n",
              "      <td id=\"T_efd50_row4_col1\" class=\"data row4 col1\" >3674.7261</td>\n",
              "      <td id=\"T_efd50_row4_col2\" class=\"data row4 col2\" >60.6195</td>\n",
              "      <td id=\"T_efd50_row4_col3\" class=\"data row4 col3\" >0.2846</td>\n",
              "      <td id=\"T_efd50_row4_col4\" class=\"data row4 col4\" >0.5989</td>\n",
              "      <td id=\"T_efd50_row4_col5\" class=\"data row4 col5\" >1.2791</td>\n",
              "    </tr>\n",
              "    <tr>\n",
              "      <th id=\"T_efd50_level0_row5\" class=\"row_heading level0 row5\" >Mean</th>\n",
              "      <td id=\"T_efd50_row5_col0\" class=\"data row5 col0\" >37.1874</td>\n",
              "      <td id=\"T_efd50_row5_col1\" class=\"data row5 col1\" >3510.9468</td>\n",
              "      <td id=\"T_efd50_row5_col2\" class=\"data row5 col2\" >52.8904</td>\n",
              "      <td id=\"T_efd50_row5_col3\" class=\"data row5 col3\" >0.1600</td>\n",
              "      <td id=\"T_efd50_row5_col4\" class=\"data row5 col4\" >0.7402</td>\n",
              "      <td id=\"T_efd50_row5_col5\" class=\"data row5 col5\" >1.9864</td>\n",
              "    </tr>\n",
              "    <tr>\n",
              "      <th id=\"T_efd50_level0_row6\" class=\"row_heading level0 row6\" >Std</th>\n",
              "      <td id=\"T_efd50_row6_col0\" class=\"data row6 col0\" >19.3601</td>\n",
              "      <td id=\"T_efd50_row6_col1\" class=\"data row6 col1\" >1825.4767</td>\n",
              "      <td id=\"T_efd50_row6_col2\" class=\"data row6 col2\" >26.7125</td>\n",
              "      <td id=\"T_efd50_row6_col3\" class=\"data row6 col3\" >0.1375</td>\n",
              "      <td id=\"T_efd50_row6_col4\" class=\"data row6 col4\" >0.4140</td>\n",
              "      <td id=\"T_efd50_row6_col5\" class=\"data row6 col5\" >1.2524</td>\n",
              "    </tr>\n",
              "  </tbody>\n",
              "</table>\n"
            ]
          },
          "metadata": {}
        },
        {
          "output_type": "display_data",
          "data": {
            "text/plain": [
              "Processing:   0%|          | 0/7 [00:00<?, ?it/s]"
            ],
            "application/vnd.jupyter.widget-view+json": {
              "version_major": 2,
              "version_minor": 0,
              "model_id": "501b455d21bf45479992ebe5a00a4be3"
            }
          },
          "metadata": {
            "application/vnd.jupyter.widget-view+json": {
              "colab": {
                "custom_widget_manager": {
                  "url": "https://ssl.gstatic.com/colaboratory-static/widgets/colab-cdn-widget-manager/b3e629b1971e1542/manager.min.js"
                }
              }
            }
          }
        },
        {
          "output_type": "stream",
          "name": "stdout",
          "text": [
            "Fitting 5 folds for each of 10 candidates, totalling 50 fits\n"
          ]
        },
        {
          "output_type": "display_data",
          "data": {
            "text/plain": [
              "<IPython.core.display.HTML object>"
            ],
            "text/html": []
          },
          "metadata": {}
        },
        {
          "output_type": "stream",
          "name": "stdout",
          "text": [
            "Original model was better than the tuned model, hence it will be returned. NOTE: The display metrics are for the tuned model (not the original one).\n"
          ]
        }
      ],
      "source": [
        "# Tune the model\n",
        "tuned_huber = reg.tune_model(huber)"
      ]
    },
    {
      "cell_type": "markdown",
      "metadata": {
        "id": "ijWTV9jUfX38"
      },
      "source": [
        "#### Diagnostics"
      ]
    },
    {
      "cell_type": "code",
      "execution_count": 15,
      "metadata": {
        "id": "N7rZJrxFfX38"
      },
      "outputs": [],
      "source": [
        "# Plot the Residuals for the model\n",
        "#plot_model(huber)"
      ]
    },
    {
      "cell_type": "code",
      "execution_count": 16,
      "metadata": {
        "colab": {
          "base_uri": "https://localhost:8080/",
          "height": 526
        },
        "id": "THf-beYEfX38",
        "outputId": "52ad9139-4ec9-461c-cde9-7e8cba9bda52"
      },
      "outputs": [
        {
          "output_type": "display_data",
          "data": {
            "text/plain": [
              "<IPython.core.display.HTML object>"
            ],
            "text/html": []
          },
          "metadata": {}
        },
        {
          "output_type": "display_data",
          "data": {
            "text/plain": [
              "<Figure size 800x550 with 1 Axes>"
            ],
            "image/png": "[encoded data removed]"
          },
          "metadata": {}
        }
      ],
      "source": [
        "# Plot Prediction Error\n",
        "plot_model(huber, plot = 'error')"
      ]
    },
    {
      "cell_type": "code",
      "execution_count": 17,
      "metadata": {
        "colab": {
          "base_uri": "https://localhost:8080/",
          "height": 485
        },
        "id": "VNOBFXoEfX38",
        "outputId": "7da3a88b-9d75-4b06-e921-a1572d1a1d74"
      },
      "outputs": [
        {
          "output_type": "display_data",
          "data": {
            "text/plain": [
              "<IPython.core.display.HTML object>"
            ],
            "text/html": []
          },
          "metadata": {}
        },
        {
          "output_type": "display_data",
          "data": {
            "text/plain": [
              "<Figure size 800x500 with 1 Axes>"
            ],
            "image/png": "[encoded data removed]"
          },
          "metadata": {}
        }
      ],
      "source": [
        "# Plot Feature Importance\n",
        "plot_model(huber, plot='feature')"
      ]
    },
    {
      "cell_type": "markdown",
      "metadata": {
        "id": "ZU-Y4QGZfX39"
      },
      "source": [
        "#### In-Sample Forecast"
      ]
    },
    {
      "cell_type": "code",
      "execution_count": 18,
      "metadata": {
        "colab": {
          "base_uri": "https://localhost:8080/",
          "height": 81
        },
        "id": "lZHVc2f4fX39",
        "outputId": "dcb49ee6-5242-4c07-c1ab-8e6393aa0e94"
      },
      "outputs": [
        {
          "output_type": "display_data",
          "data": {
            "text/plain": [
              "<pandas.io.formats.style.Styler at 0x79cc90d200a0>"
            ],
            "text/html": [
              "<style type=\"text/css\">\n",
              "</style>\n",
              "<table id=\"T_9073a\" class=\"dataframe\">\n",
              "  <thead>\n",
              "    <tr>\n",
              "      <th class=\"blank level0\" >&nbsp;</th>\n",
              "      <th id=\"T_9073a_level0_col0\" class=\"col_heading level0 col0\" >Model</th>\n",
              "      <th id=\"T_9073a_level0_col1\" class=\"col_heading level0 col1\" >MAE</th>\n",
              "      <th id=\"T_9073a_level0_col2\" class=\"col_heading level0 col2\" >MSE</th>\n",
              "      <th id=\"T_9073a_level0_col3\" class=\"col_heading level0 col3\" >RMSE</th>\n",
              "      <th id=\"T_9073a_level0_col4\" class=\"col_heading level0 col4\" >R2</th>\n",
              "      <th id=\"T_9073a_level0_col5\" class=\"col_heading level0 col5\" >RMSLE</th>\n",
              "      <th id=\"T_9073a_level0_col6\" class=\"col_heading level0 col6\" >MAPE</th>\n",
              "    </tr>\n",
              "  </thead>\n",
              "  <tbody>\n",
              "    <tr>\n",
              "      <th id=\"T_9073a_level0_row0\" class=\"row_heading level0 row0\" >0</th>\n",
              "      <td id=\"T_9073a_row0_col0\" class=\"data row0 col0\" >Huber Regressor</td>\n",
              "      <td id=\"T_9073a_row0_col1\" class=\"data row0 col1\" >41.2167</td>\n",
              "      <td id=\"T_9073a_row0_col2\" class=\"data row0 col2\" >3477.6798</td>\n",
              "      <td id=\"T_9073a_row0_col3\" class=\"data row0 col3\" >58.9719</td>\n",
              "      <td id=\"T_9073a_row0_col4\" class=\"data row0 col4\" >0.3150</td>\n",
              "      <td id=\"T_9073a_row0_col5\" class=\"data row0 col5\" >0.8685</td>\n",
              "      <td id=\"T_9073a_row0_col6\" class=\"data row0 col6\" >2.1184</td>\n",
              "    </tr>\n",
              "  </tbody>\n",
              "</table>\n"
            ]
          },
          "metadata": {}
        }
      ],
      "source": [
        "# Make predictions on the training data\n",
        "train_predictions = reg.predict_model(huber, data=df_train)"
      ]
    },
    {
      "cell_type": "code",
      "execution_count": 19,
      "metadata": {
        "colab": {
          "base_uri": "https://localhost:8080/",
          "height": 485
        },
        "id": "X7EzP2j5fX39",
        "outputId": "e33a57c1-1fae-4f34-8d91-27ee35d65bb4"
      },
      "outputs": [
        {
          "output_type": "display_data",
          "data": {
            "text/plain": [
              "<Figure size 1500x500 with 1 Axes>"
            ],
            "image/png": "[encoded data removed]"
          },
          "metadata": {}
        }
      ],
      "source": [
        "# Plot in sample forecast\n",
        "plt.figure(figsize=(15, 5))\n",
        "plt.plot(df_train.index, df_train['Sales_Qty'], label='Actual Sales Qty', marker=\".\", linewidth=1)\n",
        "plt.plot(df_train.index, train_predictions['prediction_label'], label='Predicted Sales Qty', color='darkorange', marker=\".\", linewidth=1)\n",
        "plt.title('In-Sample Forecast - Actual vs Predicted')\n",
        "plt.xlabel('Date')\n",
        "plt.ylabel('Sales Quantity')\n",
        "plt.legend()\n",
        "plt.show()"
      ]
    },
    {
      "cell_type": "markdown",
      "metadata": {
        "id": "iw_5ZxmufX39"
      },
      "source": [
        "#### Out of Sample Forecast"
      ]
    },
    {
      "cell_type": "code",
      "execution_count": 20,
      "metadata": {
        "id": "Zug-0m-4fX39"
      },
      "outputs": [],
      "source": [
        "# Retrain the model on the entire dataset\n",
        "final_huber = reg.finalize_model(huber)"
      ]
    },
    {
      "cell_type": "code",
      "execution_count": 21,
      "metadata": {
        "colab": {
          "base_uri": "https://localhost:8080/",
          "height": 81
        },
        "id": "kRrb2T0efX39",
        "outputId": "ec382b22-f213-4101-838d-44dff5f0d3e6"
      },
      "outputs": [
        {
          "output_type": "display_data",
          "data": {
            "text/plain": [
              "<pandas.io.formats.style.Styler at 0x79cc70a3dd50>"
            ],
            "text/html": [
              "<style type=\"text/css\">\n",
              "</style>\n",
              "<table id=\"T_b9c0d\" class=\"dataframe\">\n",
              "  <thead>\n",
              "    <tr>\n",
              "      <th class=\"blank level0\" >&nbsp;</th>\n",
              "      <th id=\"T_b9c0d_level0_col0\" class=\"col_heading level0 col0\" >Model</th>\n",
              "      <th id=\"T_b9c0d_level0_col1\" class=\"col_heading level0 col1\" >MAE</th>\n",
              "      <th id=\"T_b9c0d_level0_col2\" class=\"col_heading level0 col2\" >MSE</th>\n",
              "      <th id=\"T_b9c0d_level0_col3\" class=\"col_heading level0 col3\" >RMSE</th>\n",
              "      <th id=\"T_b9c0d_level0_col4\" class=\"col_heading level0 col4\" >R2</th>\n",
              "      <th id=\"T_b9c0d_level0_col5\" class=\"col_heading level0 col5\" >RMSLE</th>\n",
              "      <th id=\"T_b9c0d_level0_col6\" class=\"col_heading level0 col6\" >MAPE</th>\n",
              "    </tr>\n",
              "  </thead>\n",
              "  <tbody>\n",
              "    <tr>\n",
              "      <th id=\"T_b9c0d_level0_row0\" class=\"row_heading level0 row0\" >0</th>\n",
              "      <td id=\"T_b9c0d_row0_col0\" class=\"data row0 col0\" >Huber Regressor</td>\n",
              "      <td id=\"T_b9c0d_row0_col1\" class=\"data row0 col1\" >64.2745</td>\n",
              "      <td id=\"T_b9c0d_row0_col2\" class=\"data row0 col2\" >7860.0716</td>\n",
              "      <td id=\"T_b9c0d_row0_col3\" class=\"data row0 col3\" >88.6570</td>\n",
              "      <td id=\"T_b9c0d_row0_col4\" class=\"data row0 col4\" >0.2334</td>\n",
              "      <td id=\"T_b9c0d_row0_col5\" class=\"data row0 col5\" >0.4985</td>\n",
              "      <td id=\"T_b9c0d_row0_col6\" class=\"data row0 col6\" >0.4300</td>\n",
              "    </tr>\n",
              "  </tbody>\n",
              "</table>\n"
            ]
          },
          "metadata": {}
        }
      ],
      "source": [
        "# Make predictions on the testing dataset\n",
        "test_predictions = reg.predict_model(final_huber, data=df_test)"
      ]
    },
    {
      "cell_type": "code",
      "execution_count": 22,
      "metadata": {
        "colab": {
          "base_uri": "https://localhost:8080/",
          "height": 485
        },
        "id": "uk8e_QaHfX3-",
        "outputId": "d1b7ad9c-b78c-41d0-d820-4c6063f83e28"
      },
      "outputs": [
        {
          "output_type": "display_data",
          "data": {
            "text/plain": [
              "<Figure size 1500x500 with 1 Axes>"
            ],
            "image/png": "[encoded data removed]"
          },
          "metadata": {}
        }
      ],
      "source": [
        "# Plot out of sample forecast\n",
        "plt.figure(figsize=(15, 5))\n",
        "plt.plot(df_test.index, df_test['Sales_Qty'], label='Actual Sales Qty', marker=\".\", linewidth=1)\n",
        "plt.plot(df_test.index, test_predictions['prediction_label'], label='Predicted Sales Qty', color='darkorange', marker=\".\", linewidth=1)\n",
        "plt.title('Out-of-Sample Forecast - Actual vs Predicted')\n",
        "plt.xlabel('Date')\n",
        "plt.ylabel('Sales Quantity')\n",
        "plt.legend()\n",
        "plt.show()"
      ]
    },
    {
      "cell_type": "markdown",
      "source": [
        "THE END"
      ],
      "metadata": {
        "id": "PtM1aB7CghPX"
      }
    }
  ],
  "metadata": {
    "kernelspec": {
      "display_name": ".venv",
      "language": "python",
      "name": "python3"
    },
    "language_info": {
      "codemirror_mode": {
        "name": "ipython",
        "version": 3
      },
      "file_extension": ".py",
      "mimetype": "text/x-python",
      "name": "python",
      "nbconvert_exporter": "python",
      "pygments_lexer": "ipython3",
      "version": "3.10.11"
    },
    "colab": {
      "provenance": []
    },
    "widgets": {
      "application/vnd.jupyter.widget-state+json": {
        "144d2411bb824a86a4fb7b79e70b602b": {
          "model_module": "@jupyter-widgets/controls",
          "model_name": "HBoxModel",
          "model_module_version": "1.5.0",
          "state": {
            "_dom_classes": [],
            "_model_module": "@jupyter-widgets/controls",
            "_model_module_version": "1.5.0",
            "_model_name": "HBoxModel",
            "_view_count": null,
            "_view_module": "@jupyter-widgets/controls",
            "_view_module_version": "1.5.0",
            "_view_name": "HBoxView",
            "box_style": "",
            "children": [
              "IPY_MODEL_94e8c924b1d048c8b7b22a24ad08e917",
              "IPY_MODEL_db5c90eab2d34b3da8c2b2a054c3734d",
              "IPY_MODEL_e48a245ec2444b67a2a1cda418ba770e"
            ],
            "layout": "IPY_MODEL_62ec0d470ff34c349d7a9ad09927f45b"
          }
        },
        "94e8c924b1d048c8b7b22a24ad08e917": {
          "model_module": "@jupyter-widgets/controls",
          "model_name": "HTMLModel",
          "model_module_version": "1.5.0",
          "state": {
            "_dom_classes": [],
            "_model_module": "@jupyter-widgets/controls",
            "_model_module_version": "1.5.0",
            "_model_name": "HTMLModel",
            "_view_count": null,
            "_view_module": "@jupyter-widgets/controls",
            "_view_module_version": "1.5.0",
            "_view_name": "HTMLView",
            "description": "",
            "description_tooltip": null,
            "layout": "IPY_MODEL_607bf9579da24a4ea07fb5711ef6d78c",
            "placeholder": "​",
            "style": "IPY_MODEL_8b3ad8ffd0ba49459b72c8dc05cdafa2",
            "value": "Processing: 100%"
          }
        },
        "db5c90eab2d34b3da8c2b2a054c3734d": {
          "model_module": "@jupyter-widgets/controls",
          "model_name": "FloatProgressModel",
          "model_module_version": "1.5.0",
          "state": {
            "_dom_classes": [],
            "_model_module": "@jupyter-widgets/controls",
            "_model_module_version": "1.5.0",
            "_model_name": "FloatProgressModel",
            "_view_count": null,
            "_view_module": "@jupyter-widgets/controls",
            "_view_module_version": "1.5.0",
            "_view_name": "ProgressView",
            "bar_style": "",
            "description": "",
            "description_tooltip": null,
            "layout": "IPY_MODEL_d7f1df1cc99d44d5b19f9ad75dcdef8f",
            "max": 81,
            "min": 0,
            "orientation": "horizontal",
            "style": "IPY_MODEL_143d2dc000eb4429a3caa0f9701e1398",
            "value": 81
          }
        },
        "e48a245ec2444b67a2a1cda418ba770e": {
          "model_module": "@jupyter-widgets/controls",
          "model_name": "HTMLModel",
          "model_module_version": "1.5.0",
          "state": {
            "_dom_classes": [],
            "_model_module": "@jupyter-widgets/controls",
            "_model_module_version": "1.5.0",
            "_model_name": "HTMLModel",
            "_view_count": null,
            "_view_module": "@jupyter-widgets/controls",
            "_view_module_version": "1.5.0",
            "_view_name": "HTMLView",
            "description": "",
            "description_tooltip": null,
            "layout": "IPY_MODEL_9fd1ef6c46ab4e3e916ce86574bf05f4",
            "placeholder": "​",
            "style": "IPY_MODEL_5a888a6c43aa46ee8d84a9417eeccd66",
            "value": " 81/81 [00:23&lt;00:00,  4.04it/s]"
          }
        },
        "62ec0d470ff34c349d7a9ad09927f45b": {
          "model_module": "@jupyter-widgets/base",
          "model_name": "LayoutModel",
          "model_module_version": "1.2.0",
          "state": {
            "_model_module": "@jupyter-widgets/base",
            "_model_module_version": "1.2.0",
            "_model_name": "LayoutModel",
            "_view_count": null,
            "_view_module": "@jupyter-widgets/base",
            "_view_module_version": "1.2.0",
            "_view_name": "LayoutView",
            "align_content": null,
            "align_items": null,
            "align_self": null,
            "border": null,
            "bottom": null,
            "display": null,
            "flex": null,
            "flex_flow": null,
            "grid_area": null,
            "grid_auto_columns": null,
            "grid_auto_flow": null,
            "grid_auto_rows": null,
            "grid_column": null,
            "grid_gap": null,
            "grid_row": null,
            "grid_template_areas": null,
            "grid_template_columns": null,
            "grid_template_rows": null,
            "height": null,
            "justify_content": null,
            "justify_items": null,
            "left": null,
            "margin": null,
            "max_height": null,
            "max_width": null,
            "min_height": null,
            "min_width": null,
            "object_fit": null,
            "object_position": null,
            "order": null,
            "overflow": null,
            "overflow_x": null,
            "overflow_y": null,
            "padding": null,
            "right": null,
            "top": null,
            "visibility": "hidden",
            "width": null
          }
        },
        "607bf9579da24a4ea07fb5711ef6d78c": {
          "model_module": "@jupyter-widgets/base",
          "model_name": "LayoutModel",
          "model_module_version": "1.2.0",
          "state": {
            "_model_module": "@jupyter-widgets/base",
            "_model_module_version": "1.2.0",
            "_model_name": "LayoutModel",
            "_view_count": null,
            "_view_module": "@jupyter-widgets/base",
            "_view_module_version": "1.2.0",
            "_view_name": "LayoutView",
            "align_content": null,
            "align_items": null,
            "align_self": null,
            "border": null,
            "bottom": null,
            "display": null,
            "flex": null,
            "flex_flow": null,
            "grid_area": null,
            "grid_auto_columns": null,
            "grid_auto_flow": null,
            "grid_auto_rows": null,
            "grid_column": null,
            "grid_gap": null,
            "grid_row": null,
            "grid_template_areas": null,
            "grid_template_columns": null,
            "grid_template_rows": null,
            "height": null,
            "justify_content": null,
            "justify_items": null,
            "left": null,
            "margin": null,
            "max_height": null,
            "max_width": null,
            "min_height": null,
            "min_width": null,
            "object_fit": null,
            "object_position": null,
            "order": null,
            "overflow": null,
            "overflow_x": null,
            "overflow_y": null,
            "padding": null,
            "right": null,
            "top": null,
            "visibility": null,
            "width": null
          }
        },
        "8b3ad8ffd0ba49459b72c8dc05cdafa2": {
          "model_module": "@jupyter-widgets/controls",
          "model_name": "DescriptionStyleModel",
          "model_module_version": "1.5.0",
          "state": {
            "_model_module": "@jupyter-widgets/controls",
            "_model_module_version": "1.5.0",
            "_model_name": "DescriptionStyleModel",
            "_view_count": null,
            "_view_module": "@jupyter-widgets/base",
            "_view_module_version": "1.2.0",
            "_view_name": "StyleView",
            "description_width": ""
          }
        },
        "d7f1df1cc99d44d5b19f9ad75dcdef8f": {
          "model_module": "@jupyter-widgets/base",
          "model_name": "LayoutModel",
          "model_module_version": "1.2.0",
          "state": {
            "_model_module": "@jupyter-widgets/base",
            "_model_module_version": "1.2.0",
            "_model_name": "LayoutModel",
            "_view_count": null,
            "_view_module": "@jupyter-widgets/base",
            "_view_module_version": "1.2.0",
            "_view_name": "LayoutView",
            "align_content": null,
            "align_items": null,
            "align_self": null,
            "border": null,
            "bottom": null,
            "display": null,
            "flex": null,
            "flex_flow": null,
            "grid_area": null,
            "grid_auto_columns": null,
            "grid_auto_flow": null,
            "grid_auto_rows": null,
            "grid_column": null,
            "grid_gap": null,
            "grid_row": null,
            "grid_template_areas": null,
            "grid_template_columns": null,
            "grid_template_rows": null,
            "height": null,
            "justify_content": null,
            "justify_items": null,
            "left": null,
            "margin": null,
            "max_height": null,
            "max_width": null,
            "min_height": null,
            "min_width": null,
            "object_fit": null,
            "object_position": null,
            "order": null,
            "overflow": null,
            "overflow_x": null,
            "overflow_y": null,
            "padding": null,
            "right": null,
            "top": null,
            "visibility": null,
            "width": null
          }
        },
        "143d2dc000eb4429a3caa0f9701e1398": {
          "model_module": "@jupyter-widgets/controls",
          "model_name": "ProgressStyleModel",
          "model_module_version": "1.5.0",
          "state": {
            "_model_module": "@jupyter-widgets/controls",
            "_model_module_version": "1.5.0",
            "_model_name": "ProgressStyleModel",
            "_view_count": null,
            "_view_module": "@jupyter-widgets/base",
            "_view_module_version": "1.2.0",
            "_view_name": "StyleView",
            "bar_color": null,
            "description_width": ""
          }
        },
        "9fd1ef6c46ab4e3e916ce86574bf05f4": {
          "model_module": "@jupyter-widgets/base",
          "model_name": "LayoutModel",
          "model_module_version": "1.2.0",
          "state": {
            "_model_module": "@jupyter-widgets/base",
            "_model_module_version": "1.2.0",
            "_model_name": "LayoutModel",
            "_view_count": null,
            "_view_module": "@jupyter-widgets/base",
            "_view_module_version": "1.2.0",
            "_view_name": "LayoutView",
            "align_content": null,
            "align_items": null,
            "align_self": null,
            "border": null,
            "bottom": null,
            "display": null,
            "flex": null,
            "flex_flow": null,
            "grid_area": null,
            "grid_auto_columns": null,
            "grid_auto_flow": null,
            "grid_auto_rows": null,
            "grid_column": null,
            "grid_gap": null,
            "grid_row": null,
            "grid_template_areas": null,
            "grid_template_columns": null,
            "grid_template_rows": null,
            "height": null,
            "justify_content": null,
            "justify_items": null,
            "left": null,
            "margin": null,
            "max_height": null,
            "max_width": null,
            "min_height": null,
            "min_width": null,
            "object_fit": null,
            "object_position": null,
            "order": null,
            "overflow": null,
            "overflow_x": null,
            "overflow_y": null,
            "padding": null,
            "right": null,
            "top": null,
            "visibility": null,
            "width": null
          }
        },
        "5a888a6c43aa46ee8d84a9417eeccd66": {
          "model_module": "@jupyter-widgets/controls",
          "model_name": "DescriptionStyleModel",
          "model_module_version": "1.5.0",
          "state": {
            "_model_module": "@jupyter-widgets/controls",
            "_model_module_version": "1.5.0",
            "_model_name": "DescriptionStyleModel",
            "_view_count": null,
            "_view_module": "@jupyter-widgets/base",
            "_view_module_version": "1.2.0",
            "_view_name": "StyleView",
            "description_width": ""
          }
        },
        "377213c05e8b40c0b8ebfff00dcadc08": {
          "model_module": "@jupyter-widgets/controls",
          "model_name": "HBoxModel",
          "model_module_version": "1.5.0",
          "state": {
            "_dom_classes": [],
            "_model_module": "@jupyter-widgets/controls",
            "_model_module_version": "1.5.0",
            "_model_name": "HBoxModel",
            "_view_count": null,
            "_view_module": "@jupyter-widgets/controls",
            "_view_module_version": "1.5.0",
            "_view_name": "HBoxView",
            "box_style": "",
            "children": [
              "IPY_MODEL_4de34f1e53e3409e856e7c3f79e9e451",
              "IPY_MODEL_cc5c07588acc459e8dc13ff367d8e107",
              "IPY_MODEL_991e8a9711644b659dad04cae7442242"
            ],
            "layout": "IPY_MODEL_d71f5f9c922145a4a3729862528b1d64"
          }
        },
        "4de34f1e53e3409e856e7c3f79e9e451": {
          "model_module": "@jupyter-widgets/controls",
          "model_name": "HTMLModel",
          "model_module_version": "1.5.0",
          "state": {
            "_dom_classes": [],
            "_model_module": "@jupyter-widgets/controls",
            "_model_module_version": "1.5.0",
            "_model_name": "HTMLModel",
            "_view_count": null,
            "_view_module": "@jupyter-widgets/controls",
            "_view_module_version": "1.5.0",
            "_view_name": "HTMLView",
            "description": "",
            "description_tooltip": null,
            "layout": "IPY_MODEL_0230d180f5974a36a2d34e6d10bf6b2a",
            "placeholder": "​",
            "style": "IPY_MODEL_dc7869aed0934f398240982f0a7b7015",
            "value": "Processing:   0%"
          }
        },
        "cc5c07588acc459e8dc13ff367d8e107": {
          "model_module": "@jupyter-widgets/controls",
          "model_name": "FloatProgressModel",
          "model_module_version": "1.5.0",
          "state": {
            "_dom_classes": [],
            "_model_module": "@jupyter-widgets/controls",
            "_model_module_version": "1.5.0",
            "_model_name": "FloatProgressModel",
            "_view_count": null,
            "_view_module": "@jupyter-widgets/controls",
            "_view_module_version": "1.5.0",
            "_view_name": "ProgressView",
            "bar_style": "",
            "description": "",
            "description_tooltip": null,
            "layout": "IPY_MODEL_4fa9a85dd84a43709f5c4daadd0bc3dd",
            "max": 4,
            "min": 0,
            "orientation": "horizontal",
            "style": "IPY_MODEL_570932e4fb25470a9b0a085a7d4bf97f",
            "value": 4
          }
        },
        "991e8a9711644b659dad04cae7442242": {
          "model_module": "@jupyter-widgets/controls",
          "model_name": "HTMLModel",
          "model_module_version": "1.5.0",
          "state": {
            "_dom_classes": [],
            "_model_module": "@jupyter-widgets/controls",
            "_model_module_version": "1.5.0",
            "_model_name": "HTMLModel",
            "_view_count": null,
            "_view_module": "@jupyter-widgets/controls",
            "_view_module_version": "1.5.0",
            "_view_name": "HTMLView",
            "description": "",
            "description_tooltip": null,
            "layout": "IPY_MODEL_90f28b67a3f74378b774a3ddb88bff41",
            "placeholder": "​",
            "style": "IPY_MODEL_7ab70c495ef741448febb6f3aa7b65bd",
            "value": " 0/4 [00:00&lt;?, ?it/s]"
          }
        },
        "d71f5f9c922145a4a3729862528b1d64": {
          "model_module": "@jupyter-widgets/base",
          "model_name": "LayoutModel",
          "model_module_version": "1.2.0",
          "state": {
            "_model_module": "@jupyter-widgets/base",
            "_model_module_version": "1.2.0",
            "_model_name": "LayoutModel",
            "_view_count": null,
            "_view_module": "@jupyter-widgets/base",
            "_view_module_version": "1.2.0",
            "_view_name": "LayoutView",
            "align_content": null,
            "align_items": null,
            "align_self": null,
            "border": null,
            "bottom": null,
            "display": null,
            "flex": null,
            "flex_flow": null,
            "grid_area": null,
            "grid_auto_columns": null,
            "grid_auto_flow": null,
            "grid_auto_rows": null,
            "grid_column": null,
            "grid_gap": null,
            "grid_row": null,
            "grid_template_areas": null,
            "grid_template_columns": null,
            "grid_template_rows": null,
            "height": null,
            "justify_content": null,
            "justify_items": null,
            "left": null,
            "margin": null,
            "max_height": null,
            "max_width": null,
            "min_height": null,
            "min_width": null,
            "object_fit": null,
            "object_position": null,
            "order": null,
            "overflow": null,
            "overflow_x": null,
            "overflow_y": null,
            "padding": null,
            "right": null,
            "top": null,
            "visibility": "hidden",
            "width": null
          }
        },
        "0230d180f5974a36a2d34e6d10bf6b2a": {
          "model_module": "@jupyter-widgets/base",
          "model_name": "LayoutModel",
          "model_module_version": "1.2.0",
          "state": {
            "_model_module": "@jupyter-widgets/base",
            "_model_module_version": "1.2.0",
            "_model_name": "LayoutModel",
            "_view_count": null,
            "_view_module": "@jupyter-widgets/base",
            "_view_module_version": "1.2.0",
            "_view_name": "LayoutView",
            "align_content": null,
            "align_items": null,
            "align_self": null,
            "border": null,
            "bottom": null,
            "display": null,
            "flex": null,
            "flex_flow": null,
            "grid_area": null,
            "grid_auto_columns": null,
            "grid_auto_flow": null,
            "grid_auto_rows": null,
            "grid_column": null,
            "grid_gap": null,
            "grid_row": null,
            "grid_template_areas": null,
            "grid_template_columns": null,
            "grid_template_rows": null,
            "height": null,
            "justify_content": null,
            "justify_items": null,
            "left": null,
            "margin": null,
            "max_height": null,
            "max_width": null,
            "min_height": null,
            "min_width": null,
            "object_fit": null,
            "object_position": null,
            "order": null,
            "overflow": null,
            "overflow_x": null,
            "overflow_y": null,
            "padding": null,
            "right": null,
            "top": null,
            "visibility": null,
            "width": null
          }
        },
        "dc7869aed0934f398240982f0a7b7015": {
          "model_module": "@jupyter-widgets/controls",
          "model_name": "DescriptionStyleModel",
          "model_module_version": "1.5.0",
          "state": {
            "_model_module": "@jupyter-widgets/controls",
            "_model_module_version": "1.5.0",
            "_model_name": "DescriptionStyleModel",
            "_view_count": null,
            "_view_module": "@jupyter-widgets/base",
            "_view_module_version": "1.2.0",
            "_view_name": "StyleView",
            "description_width": ""
          }
        },
        "4fa9a85dd84a43709f5c4daadd0bc3dd": {
          "model_module": "@jupyter-widgets/base",
          "model_name": "LayoutModel",
          "model_module_version": "1.2.0",
          "state": {
            "_model_module": "@jupyter-widgets/base",
            "_model_module_version": "1.2.0",
            "_model_name": "LayoutModel",
            "_view_count": null,
            "_view_module": "@jupyter-widgets/base",
            "_view_module_version": "1.2.0",
            "_view_name": "LayoutView",
            "align_content": null,
            "align_items": null,
            "align_self": null,
            "border": null,
            "bottom": null,
            "display": null,
            "flex": null,
            "flex_flow": null,
            "grid_area": null,
            "grid_auto_columns": null,
            "grid_auto_flow": null,
            "grid_auto_rows": null,
            "grid_column": null,
            "grid_gap": null,
            "grid_row": null,
            "grid_template_areas": null,
            "grid_template_columns": null,
            "grid_template_rows": null,
            "height": null,
            "justify_content": null,
            "justify_items": null,
            "left": null,
            "margin": null,
            "max_height": null,
            "max_width": null,
            "min_height": null,
            "min_width": null,
            "object_fit": null,
            "object_position": null,
            "order": null,
            "overflow": null,
            "overflow_x": null,
            "overflow_y": null,
            "padding": null,
            "right": null,
            "top": null,
            "visibility": null,
            "width": null
          }
        },
        "570932e4fb25470a9b0a085a7d4bf97f": {
          "model_module": "@jupyter-widgets/controls",
          "model_name": "ProgressStyleModel",
          "model_module_version": "1.5.0",
          "state": {
            "_model_module": "@jupyter-widgets/controls",
            "_model_module_version": "1.5.0",
            "_model_name": "ProgressStyleModel",
            "_view_count": null,
            "_view_module": "@jupyter-widgets/base",
            "_view_module_version": "1.2.0",
            "_view_name": "StyleView",
            "bar_color": null,
            "description_width": ""
          }
        },
        "90f28b67a3f74378b774a3ddb88bff41": {
          "model_module": "@jupyter-widgets/base",
          "model_name": "LayoutModel",
          "model_module_version": "1.2.0",
          "state": {
            "_model_module": "@jupyter-widgets/base",
            "_model_module_version": "1.2.0",
            "_model_name": "LayoutModel",
            "_view_count": null,
            "_view_module": "@jupyter-widgets/base",
            "_view_module_version": "1.2.0",
            "_view_name": "LayoutView",
            "align_content": null,
            "align_items": null,
            "align_self": null,
            "border": null,
            "bottom": null,
            "display": null,
            "flex": null,
            "flex_flow": null,
            "grid_area": null,
            "grid_auto_columns": null,
            "grid_auto_flow": null,
            "grid_auto_rows": null,
            "grid_column": null,
            "grid_gap": null,
            "grid_row": null,
            "grid_template_areas": null,
            "grid_template_columns": null,
            "grid_template_rows": null,
            "height": null,
            "justify_content": null,
            "justify_items": null,
            "left": null,
            "margin": null,
            "max_height": null,
            "max_width": null,
            "min_height": null,
            "min_width": null,
            "object_fit": null,
            "object_position": null,
            "order": null,
            "overflow": null,
            "overflow_x": null,
            "overflow_y": null,
            "padding": null,
            "right": null,
            "top": null,
            "visibility": null,
            "width": null
          }
        },
        "7ab70c495ef741448febb6f3aa7b65bd": {
          "model_module": "@jupyter-widgets/controls",
          "model_name": "DescriptionStyleModel",
          "model_module_version": "1.5.0",
          "state": {
            "_model_module": "@jupyter-widgets/controls",
            "_model_module_version": "1.5.0",
            "_model_name": "DescriptionStyleModel",
            "_view_count": null,
            "_view_module": "@jupyter-widgets/base",
            "_view_module_version": "1.2.0",
            "_view_name": "StyleView",
            "description_width": ""
          }
        },
        "501b455d21bf45479992ebe5a00a4be3": {
          "model_module": "@jupyter-widgets/controls",
          "model_name": "HBoxModel",
          "model_module_version": "1.5.0",
          "state": {
            "_dom_classes": [],
            "_model_module": "@jupyter-widgets/controls",
            "_model_module_version": "1.5.0",
            "_model_name": "HBoxModel",
            "_view_count": null,
            "_view_module": "@jupyter-widgets/controls",
            "_view_module_version": "1.5.0",
            "_view_name": "HBoxView",
            "box_style": "",
            "children": [
              "IPY_MODEL_a49d06e8248d42f0acb55c6a89584236",
              "IPY_MODEL_3094a042057343078e961e00426c776f",
              "IPY_MODEL_9ba0273be24d40eaa3630b8ed7e16ab7"
            ],
            "layout": "IPY_MODEL_0f5ee7d5f50b44c9998ef8a4f1ed5d08"
          }
        },
        "a49d06e8248d42f0acb55c6a89584236": {
          "model_module": "@jupyter-widgets/controls",
          "model_name": "HTMLModel",
          "model_module_version": "1.5.0",
          "state": {
            "_dom_classes": [],
            "_model_module": "@jupyter-widgets/controls",
            "_model_module_version": "1.5.0",
            "_model_name": "HTMLModel",
            "_view_count": null,
            "_view_module": "@jupyter-widgets/controls",
            "_view_module_version": "1.5.0",
            "_view_name": "HTMLView",
            "description": "",
            "description_tooltip": null,
            "layout": "IPY_MODEL_f214152758b3438bae3aef6666f46c22",
            "placeholder": "​",
            "style": "IPY_MODEL_2b637bc4fa5546c887a2f0b818ee51fe",
            "value": "Processing:  86%"
          }
        },
        "3094a042057343078e961e00426c776f": {
          "model_module": "@jupyter-widgets/controls",
          "model_name": "FloatProgressModel",
          "model_module_version": "1.5.0",
          "state": {
            "_dom_classes": [],
            "_model_module": "@jupyter-widgets/controls",
            "_model_module_version": "1.5.0",
            "_model_name": "FloatProgressModel",
            "_view_count": null,
            "_view_module": "@jupyter-widgets/controls",
            "_view_module_version": "1.5.0",
            "_view_name": "ProgressView",
            "bar_style": "",
            "description": "",
            "description_tooltip": null,
            "layout": "IPY_MODEL_17a3bdcd793e40c3890421ed13d93d7f",
            "max": 7,
            "min": 0,
            "orientation": "horizontal",
            "style": "IPY_MODEL_6203a4657b69450981f0de8ec7c6cced",
            "value": 7
          }
        },
        "9ba0273be24d40eaa3630b8ed7e16ab7": {
          "model_module": "@jupyter-widgets/controls",
          "model_name": "HTMLModel",
          "model_module_version": "1.5.0",
          "state": {
            "_dom_classes": [],
            "_model_module": "@jupyter-widgets/controls",
            "_model_module_version": "1.5.0",
            "_model_name": "HTMLModel",
            "_view_count": null,
            "_view_module": "@jupyter-widgets/controls",
            "_view_module_version": "1.5.0",
            "_view_name": "HTMLView",
            "description": "",
            "description_tooltip": null,
            "layout": "IPY_MODEL_ba94667e932042c09e929ec69e2819ac",
            "placeholder": "​",
            "style": "IPY_MODEL_8bb4d73203544adfaa29de486e30bd08",
            "value": " 6/7 [00:06&lt;00:00,  1.07it/s]"
          }
        },
        "0f5ee7d5f50b44c9998ef8a4f1ed5d08": {
          "model_module": "@jupyter-widgets/base",
          "model_name": "LayoutModel",
          "model_module_version": "1.2.0",
          "state": {
            "_model_module": "@jupyter-widgets/base",
            "_model_module_version": "1.2.0",
            "_model_name": "LayoutModel",
            "_view_count": null,
            "_view_module": "@jupyter-widgets/base",
            "_view_module_version": "1.2.0",
            "_view_name": "LayoutView",
            "align_content": null,
            "align_items": null,
            "align_self": null,
            "border": null,
            "bottom": null,
            "display": null,
            "flex": null,
            "flex_flow": null,
            "grid_area": null,
            "grid_auto_columns": null,
            "grid_auto_flow": null,
            "grid_auto_rows": null,
            "grid_column": null,
            "grid_gap": null,
            "grid_row": null,
            "grid_template_areas": null,
            "grid_template_columns": null,
            "grid_template_rows": null,
            "height": null,
            "justify_content": null,
            "justify_items": null,
            "left": null,
            "margin": null,
            "max_height": null,
            "max_width": null,
            "min_height": null,
            "min_width": null,
            "object_fit": null,
            "object_position": null,
            "order": null,
            "overflow": null,
            "overflow_x": null,
            "overflow_y": null,
            "padding": null,
            "right": null,
            "top": null,
            "visibility": "hidden",
            "width": null
          }
        },
        "f214152758b3438bae3aef6666f46c22": {
          "model_module": "@jupyter-widgets/base",
          "model_name": "LayoutModel",
          "model_module_version": "1.2.0",
          "state": {
            "_model_module": "@jupyter-widgets/base",
            "_model_module_version": "1.2.0",
            "_model_name": "LayoutModel",
            "_view_count": null,
            "_view_module": "@jupyter-widgets/base",
            "_view_module_version": "1.2.0",
            "_view_name": "LayoutView",
            "align_content": null,
            "align_items": null,
            "align_self": null,
            "border": null,
            "bottom": null,
            "display": null,
            "flex": null,
            "flex_flow": null,
            "grid_area": null,
            "grid_auto_columns": null,
            "grid_auto_flow": null,
            "grid_auto_rows": null,
            "grid_column": null,
            "grid_gap": null,
            "grid_row": null,
            "grid_template_areas": null,
            "grid_template_columns": null,
            "grid_template_rows": null,
            "height": null,
            "justify_content": null,
            "justify_items": null,
            "left": null,
            "margin": null,
            "max_height": null,
            "max_width": null,
            "min_height": null,
            "min_width": null,
            "object_fit": null,
            "object_position": null,
            "order": null,
            "overflow": null,
            "overflow_x": null,
            "overflow_y": null,
            "padding": null,
            "right": null,
            "top": null,
            "visibility": null,
            "width": null
          }
        },
        "2b637bc4fa5546c887a2f0b818ee51fe": {
          "model_module": "@jupyter-widgets/controls",
          "model_name": "DescriptionStyleModel",
          "model_module_version": "1.5.0",
          "state": {
            "_model_module": "@jupyter-widgets/controls",
            "_model_module_version": "1.5.0",
            "_model_name": "DescriptionStyleModel",
            "_view_count": null,
            "_view_module": "@jupyter-widgets/base",
            "_view_module_version": "1.2.0",
            "_view_name": "StyleView",
            "description_width": ""
          }
        },
        "17a3bdcd793e40c3890421ed13d93d7f": {
          "model_module": "@jupyter-widgets/base",
          "model_name": "LayoutModel",
          "model_module_version": "1.2.0",
          "state": {
            "_model_module": "@jupyter-widgets/base",
            "_model_module_version": "1.2.0",
            "_model_name": "LayoutModel",
            "_view_count": null,
            "_view_module": "@jupyter-widgets/base",
            "_view_module_version": "1.2.0",
            "_view_name": "LayoutView",
            "align_content": null,
            "align_items": null,
            "align_self": null,
            "border": null,
            "bottom": null,
            "display": null,
            "flex": null,
            "flex_flow": null,
            "grid_area": null,
            "grid_auto_columns": null,
            "grid_auto_flow": null,
            "grid_auto_rows": null,
            "grid_column": null,
            "grid_gap": null,
            "grid_row": null,
            "grid_template_areas": null,
            "grid_template_columns": null,
            "grid_template_rows": null,
            "height": null,
            "justify_content": null,
            "justify_items": null,
            "left": null,
            "margin": null,
            "max_height": null,
            "max_width": null,
            "min_height": null,
            "min_width": null,
            "object_fit": null,
            "object_position": null,
            "order": null,
            "overflow": null,
            "overflow_x": null,
            "overflow_y": null,
            "padding": null,
            "right": null,
            "top": null,
            "visibility": null,
            "width": null
          }
        },
        "6203a4657b69450981f0de8ec7c6cced": {
          "model_module": "@jupyter-widgets/controls",
          "model_name": "ProgressStyleModel",
          "model_module_version": "1.5.0",
          "state": {
            "_model_module": "@jupyter-widgets/controls",
            "_model_module_version": "1.5.0",
            "_model_name": "ProgressStyleModel",
            "_view_count": null,
            "_view_module": "@jupyter-widgets/base",
            "_view_module_version": "1.2.0",
            "_view_name": "StyleView",
            "bar_color": null,
            "description_width": ""
          }
        },
        "ba94667e932042c09e929ec69e2819ac": {
          "model_module": "@jupyter-widgets/base",
          "model_name": "LayoutModel",
          "model_module_version": "1.2.0",
          "state": {
            "_model_module": "@jupyter-widgets/base",
            "_model_module_version": "1.2.0",
            "_model_name": "LayoutModel",
            "_view_count": null,
            "_view_module": "@jupyter-widgets/base",
            "_view_module_version": "1.2.0",
            "_view_name": "LayoutView",
            "align_content": null,
            "align_items": null,
            "align_self": null,
            "border": null,
            "bottom": null,
            "display": null,
            "flex": null,
            "flex_flow": null,
            "grid_area": null,
            "grid_auto_columns": null,
            "grid_auto_flow": null,
            "grid_auto_rows": null,
            "grid_column": null,
            "grid_gap": null,
            "grid_row": null,
            "grid_template_areas": null,
            "grid_template_columns": null,
            "grid_template_rows": null,
            "height": null,
            "justify_content": null,
            "justify_items": null,
            "left": null,
            "margin": null,
            "max_height": null,
            "max_width": null,
            "min_height": null,
            "min_width": null,
            "object_fit": null,
            "object_position": null,
            "order": null,
            "overflow": null,
            "overflow_x": null,
            "overflow_y": null,
            "padding": null,
            "right": null,
            "top": null,
            "visibility": null,
            "width": null
          }
        },
        "8bb4d73203544adfaa29de486e30bd08": {
          "model_module": "@jupyter-widgets/controls",
          "model_name": "DescriptionStyleModel",
          "model_module_version": "1.5.0",
          "state": {
            "_model_module": "@jupyter-widgets/controls",
            "_model_module_version": "1.5.0",
            "_model_name": "DescriptionStyleModel",
            "_view_count": null,
            "_view_module": "@jupyter-widgets/base",
            "_view_module_version": "1.2.0",
            "_view_name": "StyleView",
            "description_width": ""
          }
        }
      }
    }
  },
  "nbformat": 4,
  "nbformat_minor": 0
}